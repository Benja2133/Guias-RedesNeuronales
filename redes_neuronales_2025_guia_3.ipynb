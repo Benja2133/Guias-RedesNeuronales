{
 "cells": [
  {
   "cell_type": "markdown",
   "metadata": {
    "id": "NRYEofSD0xoF"
   },
   "source": [
    "# Algebra lineal con **SciPy**\n",
    "\n",
    "Referencias:\n",
    "\n",
    "* https://docs.scipy.org/doc/scipy/reference/linalg.html\n",
    "* https://www.datacamp.com/cheat-sheet/scipy-cheat-sheet-linear-algebra-in-python\n",
    "\n",
    "## **Ejercicio 1)** Importando librerías\n",
    "\n",
    "Importe las librerías `numpy` para operar con arrays, `scipy` para utilizar rutinas de algebra lineal y `matplotlib.pyplot` para graficar."
   ]
  },
  {
   "cell_type": "code",
   "execution_count": 1,
   "metadata": {
    "id": "I8N3D_nU1_oT"
   },
   "outputs": [],
   "source": [
    "import numpy as np\n",
    "import scipy as sp\n",
    "import scipy.linalg as linalg\n",
    "import matplotlib.pyplot as plt"
   ]
  },
  {
   "cell_type": "markdown",
   "metadata": {
    "id": "NcaGEHAd10sb"
   },
   "source": [
    "## **Ejercicio 2)** Inversa de una matriz\n",
    "\n",
    "Referencias:\n",
    "\n",
    "* https://docs.scipy.org/doc/scipy/reference/generated/scipy.linalg.inv.html#scipy.linalg.inv\n",
    "\n",
    "**1)** Use `linalg.inv()` para calcular la inversa $A^{-1}$ de la matriz\n",
    "\n",
    "\\begin{equation}\n",
    "A = \\bigg(\n",
    "\\begin{array}{cc}\n",
    "1 & 2 \\\\\n",
    "3 & 4\n",
    "\\end{array}\n",
    "\\bigg)\n",
    "\\end{equation}\n",
    "\n",
    "**2)** Use `np.dot()` para chequear que $A^{-1}A \\approx \\mathbb{I}$, donde $\\mathbb{I}$ es la matriz identidad.\n",
    "\n",
    "**3)** Chequee que $AA^{-1} \\approx \\mathbb{I}$."
   ]
  },
  {
   "cell_type": "code",
   "execution_count": 2,
   "metadata": {
    "id": "tntEwNvE4SZC"
   },
   "outputs": [
    {
     "data": {
      "text/plain": [
       "array([[-2. ,  1. ],\n",
       "       [ 1.5, -0.5]])"
      ]
     },
     "execution_count": 2,
     "metadata": {},
     "output_type": "execute_result"
    }
   ],
   "source": [
    "# 2.1)\n",
    "A = np.array([[1,2],[3,4]])\n",
    "A_inv = linalg.inv(A)\n",
    "A_inv"
   ]
  },
  {
   "cell_type": "code",
   "execution_count": 3,
   "metadata": {},
   "outputs": [
    {
     "data": {
      "text/plain": [
       "array([[1.0000000e+00, 0.0000000e+00],\n",
       "       [8.8817842e-16, 1.0000000e+00]])"
      ]
     },
     "execution_count": 3,
     "metadata": {},
     "output_type": "execute_result"
    }
   ],
   "source": [
    "#2.2)\n",
    "np.dot(A,A_inv)"
   ]
  },
  {
   "cell_type": "markdown",
   "metadata": {
    "id": "4pp5DryY2azA"
   },
   "source": [
    "## **Ejercicio 3)** Sistema de ecuaciones lineales\n",
    "\n",
    "Referencias:\n",
    "\n",
    "* https://docs.scipy.org/doc/scipy/reference/generated/scipy.linalg.solve.html#scipy.linalg.solve\n",
    "\n",
    "**1)** Use `linalg.solve()` para resolver el sistema $Ax=b$ donde, $x$ es la incógnita,\n",
    "\n",
    "\\begin{equation}\n",
    "A = \\left(\n",
    "\\begin{array}{cc}\n",
    "3 & 2 & 0 \\\\\n",
    "1 & -1 & 0 \\\\\n",
    "0 & 5 & 1\n",
    "\\end{array}\n",
    "\\right)\n",
    "\\end{equation}\n",
    "\n",
    "y\n",
    "\n",
    "\\begin{equation}\n",
    "b = \\left(\n",
    "\\begin{array}{cc}\n",
    "2 \\\\\n",
    "4 \\\\\n",
    "1\n",
    "\\end{array}\n",
    "\\right)\n",
    "\\end{equation}\n",
    "\n",
    "**2)** Chequee que $Ax=b$."
   ]
  },
  {
   "cell_type": "code",
   "execution_count": 4,
   "metadata": {
    "id": "PshUolMT2ZtI"
   },
   "outputs": [],
   "source": [
    "# 3.1)\n",
    "A = np.array([[3,2,0],[1,-1,0],[0,5,1]])\n",
    "b = np.array([2,4,1])\n",
    "x = linalg.solve(A,b)"
   ]
  },
  {
   "cell_type": "code",
   "execution_count": 5,
   "metadata": {},
   "outputs": [
    {
     "data": {
      "text/plain": [
       "array([2., 4., 1.])"
      ]
     },
     "execution_count": 5,
     "metadata": {},
     "output_type": "execute_result"
    }
   ],
   "source": [
    "#3.2)\n",
    "np.dot(A,x)"
   ]
  },
  {
   "cell_type": "markdown",
   "metadata": {
    "id": "YS7bf2SJ2nws"
   },
   "source": [
    "## **Ejercicio 4)** Cuadrados mínimos\n",
    "\n",
    "Dada una matriz $X$ de dimensiones $n\\times m$ y un vector $y$ de dimensión $n$, la función `linalg.lstsq(X,y,...)` se usa para encontrar el vector $y$ de dimensión $m$ que minimize la norma L2 dada por $|y-Xc|$ con respecto al vector $c$ de dimensión $m$. Notar que minimizar esta cantidad no necesariamente implica que $Xc=y$. Minimizar $|y-Xc|$ es útil para infinidad de problemas. En particular, es útil para ajustar polinomios a curvas obtenidas de datos.\n",
    "\n",
    "Referencias:\n",
    "\n",
    "* https://docs.scipy.org/doc/scipy/reference/generated/scipy.linalg.lstsq.html#scipy.linalg.lstsq\n",
    "\n",
    "**1)** Use `linalg.lstsq(X,y)` para encontrar los coeficientes $c_0$, $c_1$ y $c_2$ del polinomio $p(x)=c_0+c_1x+c_2x^2$ que ajuste lo mejor posible los siguientes datos\n",
    "\n",
    "    x = np.array([1.0, 2.5, 3.5, 4.0, 5.0, 7.0, 8.5])\n",
    "    y = np.array([0.3, 1.1, 1.5, 2.0, 3.2, 6.6, 8.6])\n",
    "\n",
    "de acuerdo al método de cuadrados mínimos\n",
    "\n",
    "\\begin{eqnarray}\n",
    "\\min_{c_0,c_1,c_2} \\sum_i (y_i-p(x_i))^2\n",
    "\\end{eqnarray}\n",
    "\n",
    "**Ayuda:** Utilizar la matriz $X$ de entradas $X_{ij}=x_i^j$, i.e. la $j$-ésima potencia de $x_i$.\n",
    "\n",
    "**2)** Con el fin de evaluar la bondad del ajuste, grafique en una misma figura:\n",
    "\n",
    "* con símbolos los puntos $(x_i,y_i)$, y\n",
    "* con una curva el polinomio ajustado $p(x)$ vs $x$."
   ]
  },
  {
   "cell_type": "code",
   "execution_count": 6,
   "metadata": {
    "id": "EQXxlhEM2k8s"
   },
   "outputs": [
    {
     "data": {
      "text/plain": [
       "array([0.0578403 , 0.07701453, 0.11262261])"
      ]
     },
     "execution_count": 6,
     "metadata": {},
     "output_type": "execute_result"
    }
   ],
   "source": [
    "# 4.1)\n",
    "x_data = np.array([1.0, 2.5, 3.5, 4.0, 5.0, 7.0, 8.5])\n",
    "y_data = np.array([0.3, 1.1, 1.5, 2.0, 3.2, 6.6, 8.6])\n",
    "\n",
    "X = np.column_stack([x_data**0, x_data**1, x_data**2])\n",
    "c = linalg.lstsq(X, y_data)[0]\n",
    "\n",
    "c"
   ]
  },
  {
   "cell_type": "code",
   "execution_count": 7,
   "metadata": {},
   "outputs": [
    {
     "data": {
      "image/png": "[encoded data removed]",
      "text/plain": [
       "<Figure size 640x480 with 1 Axes>"
      ]
     },
     "metadata": {},
     "output_type": "display_data"
    }
   ],
   "source": [
    "#4.2)\n",
    "x_fit = np.linspace(x_data.min(), x_data.max(), 100)\n",
    "\n",
    "y_fit = c[0] + c[1] * x_fit + c[2] * x_fit**2\n",
    "\n",
    "plt.plot(x_data, y_data,'o', label='Datos Originales')\n",
    "\n",
    "plt.plot(x_fit, y_fit,'-', label='Ajuste Polinomial')\n",
    "\n",
    "plt.xlabel(\"x\")\n",
    "plt.ylabel(\"y\")\n",
    "plt.title(\"Ajuste de Polinomio por Cuadrados Mínimos\")\n",
    "plt.legend()\n",
    "plt.grid(True)\n",
    "plt.show()"
   ]
  },
  {
   "cell_type": "markdown",
   "metadata": {
    "id": "Siuu1AyTP_cF"
   },
   "source": [
    "## **Ejercicio 5)** pseudo-inversa de Moore-Penrose de una matriz\n",
    "\n",
    "La pseudo-inversa de Moore-Penrose es una generalización de la noción de inversa, que resulta útil porque existe para cualquier matriz de dimensiones y entradas arbitrarias sobre los números reales o complejos.\n",
    "\n",
    "Si una matriz $A$ es invertible (y por ende cuadrada), existe una matriz $B$ tal $AB=BA=\\mathbb{I}$. Dicha matríz $B$ es única (para la $A$ dada) y, por ende, se la denota por $A^{-1}$ y se la denomina inversa de $A$.\n",
    "\n",
    "Si $A$ no es invertible, luego no existe una matriz $B$ para la cual se cumpla la primera condición $AB=BA=\\mathbb{I}$. Sin embargo, se puede ver que siempre existe una matriz $B$ para la cual se cumple:\n",
    "\n",
    "* $ABA = A$,\n",
    "* $BAB=B$,\n",
    "* $AB$ es hermitiana, y\n",
    "* $BA$ es hermitiana.\n",
    "\n",
    "Dicha matriz $B$ es única (para la $A$ dada) y, por ende, se la denota por $A^+$ y se la denomina matríz pseudo-inversa de Moore-Penrose de $A$.\n",
    "\n",
    "Referencias:\n",
    "\n",
    "* https://en.wikipedia.org/wiki/Moore%E2%80%93Penrose_inverse\n",
    "* https://docs.scipy.org/doc/scipy/reference/generated/scipy.linalg.pinv.html#scipy.linalg.pinv\n",
    "\n",
    "**1)** Cree una matriz $A$ de dimensiones $n\\times m$ con $n=9$ y $m=6$ de números aleatorios generados a partir de la distribución normal de media 0 y varianza 1.\n",
    "\n",
    "**2)** Use `linalg.pinv()` para computar la psuedo-inversa de Moore-Penrose $A^+$ de $A$.\n",
    "\n",
    "**3)** Que dimensiones tiene $A^+$?\n",
    "\n",
    "**4)** Use `np.allclose()` para verifique que $AA^+A\\approx A$.\n",
    "\n",
    "**5)** Verifique que $A^+AA^+\\approx A^+$."
   ]
  },
  {
   "cell_type": "code",
   "execution_count": 8,
   "metadata": {
    "colab": {
     "base_uri": "https://localhost:8080/"
    },
    "id": "j139zRcL44_O",
    "outputId": "1d492b56-757f-48e7-85f0-0ed340ad9efe"
   },
   "outputs": [
    {
     "name": "stdout",
     "output_type": "stream",
     "text": [
      "Matriz A:\n",
      "[[ 0.31871294  0.98543984 -0.21931707 -0.04972221  0.19027681  1.42717582]\n",
      " [ 0.74750211  0.6689175  -0.40659772 -0.38157617 -1.48868395  0.16116732]\n",
      " [ 0.90122625 -1.30164725  0.72118366 -0.66375169 -0.2773768  -1.02895731]\n",
      " [ 0.70038635 -0.03299199 -1.04767794 -0.60454237 -0.00820887 -0.73021558]\n",
      " [ 0.87654232 -0.56181148 -1.80799539 -0.87468988  1.45092187  1.36802232]\n",
      " [-0.23882673 -0.42469467  0.31626294  0.36160938 -1.35470338 -0.84875977]\n",
      " [-0.37265453 -1.29029125 -1.1802734   0.60034625  0.75952872  0.40486696]\n",
      " [ 0.02756561  0.62763732 -2.32266262  0.77692017  1.29244672 -0.27378313]\n",
      " [-0.67932182  0.85413644  0.35732736  0.70991596 -0.77992419  0.04981775]]\n"
     ]
    }
   ],
   "source": [
    "# 5.1)\n",
    "# Dimensiones\n",
    "n, m = 9, 6\n",
    "# Crear la matriz A\n",
    "A = np.random.randn(n, m)\n",
    "print(\"Matriz A:\")\n",
    "print(A)"
   ]
  },
  {
   "cell_type": "code",
   "execution_count": 9,
   "metadata": {},
   "outputs": [
    {
     "name": "stdout",
     "output_type": "stream",
     "text": [
      "Pseudo-inversa de A (A+):\n",
      "[[ 0.81818348  0.30530589  1.07762802 -0.46801028 -0.2745264  -0.08316852\n",
      "   0.04632577  0.57348696 -0.13225696]\n",
      " [ 0.06205331 -0.00157809 -0.16346212  0.11056146 -0.09787936 -0.16483258\n",
      "  -0.36139652  0.14043128  0.06011157]\n",
      " [ 0.23258237 -0.13711203  0.31947702 -0.28111103 -0.19474574 -0.14571216\n",
      "  -0.11518603 -0.01920125 -0.04539439]\n",
      " [ 0.72411394  0.14568432  0.81183622 -0.68366236 -0.45813069  0.07997832\n",
      "   0.37057833  0.65751368  0.07633984]\n",
      " [ 0.05861307 -0.33175428  0.1405881  -0.07965785 -0.05100496 -0.28154517\n",
      "  -0.13867162  0.1860542  -0.11637791]\n",
      " [ 0.2829555   0.1297144  -0.04372054 -0.25071242  0.16026315  0.00603411\n",
      "   0.20686935 -0.17231889  0.04319184]]\n"
     ]
    }
   ],
   "source": [
    "# 5.2) Calcular la pseudo-inversa de Moore-Penrose de A\n",
    "A_plus = np.linalg.pinv(A)\n",
    "print(\"Pseudo-inversa de A (A+):\")\n",
    "print(A_plus)"
   ]
  },
  {
   "cell_type": "code",
   "execution_count": 10,
   "metadata": {},
   "outputs": [
    {
     "name": "stdout",
     "output_type": "stream",
     "text": [
      "Dimensiones de A+: (6, 9)\n"
     ]
    }
   ],
   "source": [
    "# 5.3) Dimensiones de A+\n",
    "dim_A_plus = A_plus.shape\n",
    "print(f\"Dimensiones de A+: {dim_A_plus}\")"
   ]
  },
  {
   "cell_type": "code",
   "execution_count": 11,
   "metadata": {},
   "outputs": [
    {
     "name": "stdout",
     "output_type": "stream",
     "text": [
      "A*(A+)*A = A?: True\n"
     ]
    }
   ],
   "source": [
    "# 5.4) Verificar que A*(A+)*A = A\n",
    "check_A = np.allclose(np.dot(A, np.dot(A_plus, A)), A)\n",
    "print(f\"A*(A+)*A = A?: {check_A}\")"
   ]
  },
  {
   "cell_type": "code",
   "execution_count": 12,
   "metadata": {},
   "outputs": [
    {
     "name": "stdout",
     "output_type": "stream",
     "text": [
      "(A+)*A*(A+) = A+?: True\n"
     ]
    }
   ],
   "source": [
    "# 5.5) Verificar que (A+)*A*(A+) = A+\n",
    "check_A_plus = np.allclose(np.dot(A_plus, np.dot(A, A_plus)), A_plus)\n",
    "print(f\"(A+)*A*(A+) = A+?: {check_A_plus}\")"
   ]
  },
  {
   "cell_type": "markdown",
   "metadata": {
    "id": "lmq42jPWWvY0"
   },
   "source": [
    "## **Ejercicio 6)** Producto de Kronecker\n",
    "\n",
    "Considere las matrices\n",
    "\n",
    "\\begin{equation}\n",
    "A = \\left(\n",
    "\\begin{array}{cc}\n",
    "A_{11} & \\dots & A_{1m} \\\\\n",
    "\\vdots & \\ddots & \\vdots \\\\\n",
    "A_{nm} & \\dots & A_{nm}\n",
    "\\end{array}\n",
    "\\right)\n",
    "\\end{equation}\n",
    "\n",
    "y\n",
    "\n",
    "\\begin{equation}\n",
    "B = \\left(\n",
    "\\begin{array}{cc}\n",
    "B_{11} & \\dots & B_{1s} \\\\\n",
    "\\vdots & \\ddots & \\vdots \\\\\n",
    "B_{r1} & \\dots & B_{rs}\n",
    "\\end{array}\n",
    "\\right)\n",
    "\\end{equation}\n",
    "\n",
    "El producto de Kronecker es la matriz de dimensiones $nr\\times ms$ dada por\n",
    "\n",
    "\\begin{equation}\n",
    "A\\otimes B\n",
    "=\n",
    "\\left(\n",
    "\\begin{array}{cc}\n",
    "A_{11}B & \\dots & A_{1m}B \\\\\n",
    "\\vdots & \\ddots & \\vdots \\\\\n",
    "A_{n1}B & \\dots & A_{nm}B\n",
    "\\end{array}\n",
    "\\right)\n",
    "=\n",
    "\\left(\n",
    "\\begin{array}{cc}\n",
    "B_{11}A & \\dots & B_{1s}A \\\\\n",
    "\\vdots & \\ddots & \\vdots \\\\\n",
    "B_{r1}A & \\dots & B_{rs}A\n",
    "\\end{array}\n",
    "\\right)\n",
    "\\end{equation}\n",
    "\n",
    "donde $A_{ij}B$ es un bloque de la matriz $A\\otimes B$ igual al producto del escalar $A_{ij}$ por la matriz $B$.\n",
    "Idem para $B_{ij}A$.\n",
    "\n",
    "Referencias:\n",
    "\n",
    "* https://docs.scipy.org/doc/scipy/reference/generated/scipy.linalg.kron.html#scipy.linalg.kron\n",
    "\n",
    "**1)** Use `linalg.kron()` para calcular el producto de Kronecker de las matrices\n",
    "\n",
    "\\begin{equation}\n",
    "A = \\left(\n",
    "\\begin{array}{cc}\n",
    "1 & 2 \\\\\n",
    "3 & 4 \\\\\n",
    "\\end{array}\n",
    "\\right)\n",
    "\\end{equation}\n",
    "\n",
    "y\n",
    "\n",
    "\\begin{equation}\n",
    "B = \\left(\n",
    "\\begin{array}{cc}\n",
    "1 \\\\\n",
    "1 \\\\\n",
    "1 \\\\\n",
    "\\end{array}\n",
    "\\right)\n",
    "\\end{equation}\n",
    "\n",
    "Que dimensiones tiene $A\\otimes B$ en este caso?\n",
    "\n",
    "**2)** Repita para las matrices\n",
    "\n",
    "\\begin{equation}\n",
    "A = \\left(\n",
    "\\begin{array}{cc}\n",
    "1 & 2 \\\\\n",
    "3 & 4 \\\\\n",
    "\\end{array}\n",
    "\\right)\n",
    "\\end{equation}\n",
    "\n",
    "y\n",
    "\n",
    "\\begin{equation}\n",
    "B = \\left(\n",
    "\\begin{array}{cc}\n",
    "1 & 1 & 1\n",
    "\\end{array}\n",
    "\\right)\n",
    "\\end{equation}\n",
    "\n",
    "Que dimensiones tiene $A\\otimes B$ en este otro caso?"
   ]
  },
  {
   "cell_type": "code",
   "execution_count": 13,
   "metadata": {
    "colab": {
     "base_uri": "https://localhost:8080/"
    },
    "id": "HMSSVY0-IMx_",
    "outputId": "98ce83eb-5ac2-4347-ebde-e49d020b5cbf"
   },
   "outputs": [
    {
     "name": "stdout",
     "output_type": "stream",
     "text": [
      "\n",
      "Producto de Kronecker A_k_B (caso 1):\n",
      " [[1 2]\n",
      " [1 2]\n",
      " [1 2]\n",
      " [3 4]\n",
      " [3 4]\n",
      " [3 4]]\n",
      "\n",
      "La forma de A prodkron B es: (6, 2)\n"
     ]
    }
   ],
   "source": [
    "# 6.1)\n",
    "A = np.array([[1, 2],[3, 4]])\n",
    "B = np.array([[1],[1],[1]])\n",
    "# Calculamos el producto de Kronecker\n",
    "kron_product_1 = np.kron(A, B)\n",
    "print(\"\\nProducto de Kronecker A_k_B (caso 1):\\n\", kron_product_1)\n",
    "print(f\"\\nLa forma de A prodkron B es: {kron_product_1.shape}\")"
   ]
  },
  {
   "cell_type": "code",
   "execution_count": 14,
   "metadata": {},
   "outputs": [
    {
     "name": "stdout",
     "output_type": "stream",
     "text": [
      "\n",
      "Producto de Kronecker A_k_B (caso 1):\n",
      " [[1 1 1 2 2 2]\n",
      " [3 3 3 4 4 4]]\n",
      "\n",
      "La forma de A prodkron B es: (2, 6)\n"
     ]
    }
   ],
   "source": [
    "#6.2)\n",
    "B = np.array([1,1,1])\n",
    "kron_product_1 = np.kron(A, B)\n",
    "print(\"\\nProducto de Kronecker A_k_B (caso 1):\\n\", kron_product_1)\n",
    "print(f\"\\nLa forma de A prodkron B es: {kron_product_1.shape}\")"
   ]
  },
  {
   "cell_type": "markdown",
   "metadata": {
    "id": "2OsaX5tGJ3QD"
   },
   "source": [
    "## **Ejercicio 7)** Autovalores y autovectores\n",
    "\n",
    "Considere una matriz $A$ de $n\\times m$. Luego, existen un conjunto de escalares $\\{\\lambda_1,...,\\lambda_n\\}$ y un correspondiente conjunto de vectores distintos $\\{v_1,...,v_n\\}$ tales que\n",
    "\n",
    "\\begin{eqnarray}\n",
    "Av_i = \\lambda_i v_i \\;\\;\\;\\; (1)\n",
    "\\end{eqnarray}\n",
    "\n",
    "para todo $i\\in\\{1,...,n\\}$. Estos $\\lambda_i$ y $v_i$ se denominan autovalores y autovectores a derecha de $A$, respectivamente. Los autovalores pueden repetirse, pueden ser nulos y se los suele ordenar de mayor a menor en orden descendiente de sus valores absolutos: $|\\lambda_1|\\geq |\\lambda_2|\\geq ...\\geq |\\lambda_n|\\geq 0$. Los autovectores pueden normalizarse, ya que si $v_i$ es autovector, luego $v_i/|v_i|$ también lo es.\n",
    "\n",
    "Los autovectores constituyen una base del dominio de $A$. Esto es muy útil porque permite escribir cualquier vector $v$ en el dominio de $A$ como una combinación linal de sus autovectores\n",
    "\n",
    "\\begin{eqnarray}\n",
    "v = \\sum_i c_i v_i\n",
    "\\end{eqnarray}\n",
    "\n",
    "Luego, calcular el producto de $A$ con $v$ resulta muy simple\n",
    "\n",
    "\\begin{eqnarray}\n",
    "Av = A\\left(\\sum_i c_i v_i\\right) = \\sum_i c_iAv_i = \\sum_i c_i\\lambda_iv_i\n",
    "\\end{eqnarray}\n",
    "\n",
    "Análogamente, existen un conjunto de escalares $\\{\\mu_1,...,\\mu_m\\}$ y un correspondiente conjunto de vectores diferentes $\\{u_1,...,u_m\\}$ de $A$, llamados autovalores y autovectores a izquierda de $A$, respectivamente, y son tales que\n",
    "\n",
    "\\begin{eqnarray}\n",
    "u_jA = \\mu_j u_j \\;\\;\\;\\; (2)\n",
    "\\end{eqnarray}\n",
    "\n",
    "para todo $j\\in\\{1,...,m\\}$.\n",
    "\n",
    "**1)** Use `linalg.eigvals()` para calcular los autovalores a derecha de la matriz\n",
    "\n",
    "\\begin{equation}\n",
    "A = \\left(\n",
    "\\begin{array}{cc}\n",
    "0 & -1 \\\\\n",
    "1 &  0\n",
    "\\end{array}\n",
    "\\right)\n",
    "\\end{equation}\n",
    "\n",
    "Referencias:\n",
    "\n",
    "* https://docs.scipy.org/doc/scipy/reference/generated/scipy.linalg.eig.html#scipy.linalg.eig\n",
    "\n",
    "**2)** Use `linalg.eig()` para calcular los autovalores y los correspondientes autovectores a derecha de $A$.\n",
    "\n",
    "**3)** Verifique que la ecuación $(1)$ se cumple.\n",
    "\n",
    "**4)** Use `linalg.eig()` para calcular los autovalores y los correspondientes autovectores a izquierda de $A$.\n",
    "\n",
    "**5)** Verifique que la ecuación $(2)$ se cumple."
   ]
  },
  {
   "cell_type": "code",
   "execution_count": 15,
   "metadata": {
    "colab": {
     "base_uri": "https://localhost:8080/"
    },
    "id": "MmZ790fmKNQP",
    "outputId": "10d21c13-77c8-426a-ea8a-555dbe42e575"
   },
   "outputs": [
    {
     "data": {
      "text/plain": [
       "array([0.+1.j, 0.-1.j])"
      ]
     },
     "execution_count": 15,
     "metadata": {},
     "output_type": "execute_result"
    }
   ],
   "source": [
    "# 7.1)\n",
    "A = np.array([[0,-1],[1,0]])\n",
    "eigenvalues = linalg.eigvals(A)\n",
    "eigenvalues"
   ]
  },
  {
   "cell_type": "code",
   "execution_count": 16,
   "metadata": {},
   "outputs": [
    {
     "name": "stdout",
     "output_type": "stream",
     "text": [
      "Autovalores ( lambda ):\n",
      " [0.+1.j 0.-1.j]\n",
      "Autovectores a derecha (v):\n",
      " [[0.70710678+0.j         0.70710678-0.j        ]\n",
      " [0.        -0.70710678j 0.        +0.70710678j]]\n"
     ]
    }
   ],
   "source": [
    "#7.2)\n",
    "lambdas_r,right_vectors = linalg.eig (A)\n",
    "print (\"Autovalores ( lambda ):\\n\", lambdas_r )\n",
    "print (\"Autovectores a derecha (v):\\n\", right_vectors )"
   ]
  },
  {
   "cell_type": "code",
   "execution_count": 17,
   "metadata": {},
   "outputs": [
    {
     "data": {
      "text/plain": [
       "True"
      ]
     },
     "execution_count": 17,
     "metadata": {},
     "output_type": "execute_result"
    }
   ],
   "source": [
    "#7.3)\n",
    "lambda_1 = lambdas_r [0]\n",
    "v_1 = right_vectors [: , 0] # Primera columna\n",
    "\n",
    "lado_izquierdo =  np.dot(A,v_1)\n",
    "\n",
    "lado_derecho = lambda_1 * v_1\n",
    "\n",
    "np.allclose (lado_izquierdo,lado_derecho) "
   ]
  },
  {
   "cell_type": "markdown",
   "metadata": {
    "id": "hJq6cMug_8WP"
   },
   "source": [
    "## **Ejercicio 8)** Singular Value Decomposition (SVD)\n",
    "\n",
    "Una matriz compleja $A$ de dimensiones $n\\times m$ se la puede pensar como una transformación lineal $A:V\\to W$ desde un espacio vectorial $V$ de dimensión $m$ a un espacio vectorial $W$ de dimensión $n$.\n",
    "A $V$ se lo suele llamar espacio de salida y a $W$ espacio de llegada.\n",
    "\n",
    "Cualquiera sea $A$, siempre existen matrices $L$, $D$ y $R$, de dimensiones $n\\times n$, $n\\times m$ y $m\\times m$, respectivamente, tales que $L$ y $R$ son unitarias, $D$ es diagonal y\n",
    "\n",
    "\\begin{eqnarray}\n",
    "A = LDR^{\\dagger} \\;\\;\\;\\; (1)\n",
    "\\end{eqnarray}\n",
    "\n",
    "Los valores diagonales\n",
    "\n",
    "\\begin{eqnarray}\n",
    "\\sigma_i := D_{ii}\n",
    "\\end{eqnarray}\n",
    "\n",
    "están definidos para todo $i\\in \\{1,...,k\\}$, donde $k=\\min(n,m)$,\n",
    "se los denomina valores singulares de $A$, son todos reales y no-negativos.\n",
    "La descomposición siempre puede realizarse de manera tal que $\\sigma_1\\geq \\sigma_2 \\geq ... \\geq \\sigma_k\\geq 0$.\n",
    "El número de valores singulares no nulos es el rango de $A$.\n",
    "\n",
    "Los vectores columna $l_1,...,l_n$ de $L$ forman una base ortonormal del espacio vectorial de llegada $W$.\n",
    "Los vectores columna $r_1,...,r_m$ de $R$ forman una base ortonormal del espacio vectorial de salida $V$.\n",
    "Usando estas propiedades, la ecuación $(1)$ puede reescribirse como\n",
    "\n",
    "\\begin{eqnarray}\n",
    "A = \\sum_{i=1}^k \\sigma_i \\, (l_i \\otimes r_i^{\\dagger}) \\;\\;\\;\\; (2)\n",
    "\\end{eqnarray}\n",
    "\n",
    "donde $l_i \\otimes r_i^{\\dagger}$ es la matriz de dimensiones $n\\times m$ resultante del [producto de Kronecker](https://en.wikipedia.org/wiki/Kronecker_product) entre la matriz $l_i$ de dimensiones $n\\times 1$ y la matriz $r_i^{\\dagger}$ de dimensiones $1\\times m$.\n",
    "En otras palabras, la $jk$-esima entrada de la matriz $l_i \\otimes r_i^{\\dagger}$ es\n",
    "\n",
    "\\begin{eqnarray}\n",
    "(l_i \\otimes r_i^{\\dagger})_{jk}\n",
    "=\n",
    "(l_i)_{j1}\n",
    "(r_i^{\\dagger})_{1k}\n",
    "\\end{eqnarray}\n",
    "\n",
    "para cada $j\\in \\{1,...,n\\}$ y $k \\in \\{1,...,m\\}$, donde\n",
    "\n",
    "\\begin{eqnarray}\n",
    "(r_i^{\\dagger})_{1k}\n",
    "=\n",
    "(r_i)_{k1}^*\n",
    "\\end{eqnarray}\n",
    "\n",
    "i.e. es el complejo conjugado de la $k1$-esima entrada de la traspuesta de la matriz $r_i$.\n",
    "\n",
    "Referencias:\n",
    "\n",
    "* https://en.wikipedia.org/wiki/Singular_value_decomposition\n",
    "* https://docs.scipy.org/doc/scipy/reference/generated/scipy.linalg.svd.html#scipy.linalg.svd\n",
    "\n",
    "**1)** Cree una matriz compleja $A$ de dimensiones $n\\times m$ con $n=9$ y $m=6$, cuyas entradas $a_{ij} = x_{ij} + i y_{ij}$ se computen generando números aleatorios $x_{ij}$ e $y_{ij}$ a partir de una distribución normal de media 0 y varianza 1.\n",
    "\n",
    "**2)** Use `linalg.svd()` para calcular la SVD de $A$. Dicha función retorna 3 arrays, digamos `L`, `s` y `Rc`, donde `L` denota a la matriz $L$, `s` denota al vector de valores singulares $(\\sigma_1,\\sigma_2,...,\\sigma_k)$ y `Rc` denota a la matriz compleja conjugada $R^{\\dagger}$.\n",
    "Inspeccione las dimensiones de los arrays retornados.\n",
    "\n",
    "**3)** Use el vector `s` para crear la matriz diagonal $D$ de dimensiones $n\\times m$.\n",
    "\n",
    "**4)** Use `np.allclose()` para verificar numéricamente la ecuación $(1)$."
   ]
  },
  {
   "cell_type": "code",
   "execution_count": 22,
   "metadata": {
    "id": "0pUK7GdhAQBy"
   },
   "outputs": [
    {
     "name": "stdout",
     "output_type": "stream",
     "text": [
      "La forma de la matriz A es: (9, 6)\n",
      "El tipo de dato de A es: complex128\n"
     ]
    }
   ],
   "source": [
    "# 8.1)\n",
    "n, m = 9, 6\n",
    "# Creamos la parte real y la parte imaginaria con numeros aleatorios\n",
    "# de una distribución normal estándar (media 0 y varianza 1).\n",
    "real_part = np.random.randn(n, m)\n",
    "imag_part = np.random.randn(n, m)\n",
    "# Combinamos para crear la matriz compleja A. ’1j’ es la unidadimaginaria.\n",
    "A = real_part + 1j * imag_part\n",
    "print(f\"La forma de la matriz A es: {A.shape}\")\n",
    "print(f\"El tipo de dato de A es: {A.dtype}\")"
   ]
  },
  {
   "cell_type": "code",
   "execution_count": 24,
   "metadata": {},
   "outputs": [
    {
     "name": "stdout",
     "output_type": "stream",
     "text": [
      "Forma de L (matriz unitaria de llegada): (9, 9)\n",
      "Forma de s (vector de valores singulares): (6,)\n",
      "Forma de Rc (matriz R conjugada transpuesta): (6, 6)\n"
     ]
    },
    {
     "data": {
      "text/plain": [
       "array([8.02020101, 5.76025751, 3.80145291, 3.35455437, 2.82495202,\n",
       "       0.77782702])"
      ]
     },
     "execution_count": 24,
     "metadata": {},
     "output_type": "execute_result"
    }
   ],
   "source": [
    "# 8.2)\n",
    "L, s, Rc = linalg.svd(A)\n",
    "print(f\"Forma de L (matriz unitaria de llegada): {L.shape}\")\n",
    "print(f\"Forma de s (vector de valores singulares): {s.shape}\")\n",
    "print(f\"Forma de Rc (matriz R conjugada transpuesta): {Rc.shape}\")"
   ]
  },
  {
   "cell_type": "code",
   "execution_count": 25,
   "metadata": {},
   "outputs": [
    {
     "name": "stdout",
     "output_type": "stream",
     "text": [
      "La forma de la matriz diagonal D es: (9, 6)\n",
      "\n",
      "Matriz D (primeras 6 filas):\n",
      " [[8.02020101+0.j 0.        +0.j 0.        +0.j 0.        +0.j\n",
      "  0.        +0.j 0.        +0.j]\n",
      " [0.        +0.j 5.76025751+0.j 0.        +0.j 0.        +0.j\n",
      "  0.        +0.j 0.        +0.j]\n",
      " [0.        +0.j 0.        +0.j 3.80145291+0.j 0.        +0.j\n",
      "  0.        +0.j 0.        +0.j]\n",
      " [0.        +0.j 0.        +0.j 0.        +0.j 3.35455437+0.j\n",
      "  0.        +0.j 0.        +0.j]\n",
      " [0.        +0.j 0.        +0.j 0.        +0.j 0.        +0.j\n",
      "  2.82495202+0.j 0.        +0.j]\n",
      " [0.        +0.j 0.        +0.j 0.        +0.j 0.        +0.j\n",
      "  0.        +0.j 0.77782702+0.j]]\n"
     ]
    }
   ],
   "source": [
    "#8.3)\n",
    "D = np.zeros((n, m), dtype=complex)\n",
    "# Poblamos la diagonal principal de D con los valores singulares de s\n",
    "# np.diag(s) crea una matriz cuadrada 6x6, la insertamos en D\n",
    "D[:m, :m] = np.diag(s)\n",
    "print(f\"La forma de la matriz diagonal D es: {D.shape}\")\n",
    "# Para visualizarlo, imprimimos D (mostrará los sigmas en la diagonal)\n",
    "print(\"\\nMatriz D (primeras 6 filas):\\n\", D[:6])"
   ]
  },
  {
   "cell_type": "code",
   "execution_count": 27,
   "metadata": {},
   "outputs": [
    {
     "name": "stdout",
     "output_type": "stream",
     "text": [
      "Se cumple que A es aproximadamente igual a L*D*R_conjugada?: True\n"
     ]
    }
   ],
   "source": [
    "#8.4)\n",
    "A_recons = np.dot(L, np.dot(D, Rc))\n",
    "# Verificamos que la matriz reconstruida es numéricamente cercana a la original\n",
    "son_iguales = np.allclose(A, A_recons)\n",
    "print(f\"Se cumple que A es aproximadamente igual a L*D*R_conjugada?: {son_iguales}\")"
   ]
  }
 ],
 "metadata": {
  "colab": {
   "provenance": []
  },
  "kernelspec": {
   "display_name": "Python 3 (ipykernel)",
   "language": "python",
   "name": "python3"
  },
  "language_info": {
   "codemirror_mode": {
    "name": "ipython",
    "version": 3
   },
   "file_extension": ".py",
   "mimetype": "text/x-python",
   "name": "python",
   "nbconvert_exporter": "python",
   "pygments_lexer": "ipython3",
   "version": "3.12.1"
  }
 },
 "nbformat": 4,
 "nbformat_minor": 4
}
