{
 "cells": [
  {
   "cell_type": "markdown",
   "metadata": {
    "id": "NRYEofSD0xoF"
   },
   "source": [
    "# Familiarizandose con **Numpy**\n",
    "\n",
    "Referencias:\n",
    "* https://www.datacamp.com/cheat-sheet/numpy-cheat-sheet-data-analysis-in-python\n",
    "* https://towardsdatascience.com/a-cheat-sheet-on-generating-random-numbers-in-numpy-5fe95ec2286\n",
    "\n",
    "## **Ejercicio 1)** Importando librerías\n",
    "\n",
    "Importe las librerías `numpy` para operar con arrays, `scipy` para operar con algebra lineal y `matplotlib.pyplot` para graficar."
   ]
  },
  {
   "cell_type": "code",
   "execution_count": 1,
   "metadata": {
    "id": "I8N3D_nU1_oT"
   },
   "outputs": [],
   "source": [
    "import numpy as np\n",
    "import scipy as sp\n",
    "import matplotlib.pyplot as plt"
   ]
  },
  {
   "cell_type": "markdown",
   "metadata": {
    "id": "NcaGEHAd10sb"
   },
   "source": [
    "## **Ejercicio 2)** Creando arrays\n",
    "\n",
    "**1)** Cree un array de enteros `a` a partir de la lista `[1,2,3]`.\n",
    "\n",
    "**2)** Cree un array bidimensional de flotantes `b` a partir de la lista de listas `[[1.5,2,3],[4,5,6]]`.\n",
    "\n",
    "**3)** Cree un array tridimensional de flotantes `c` a partir de la lista de listas `[[[1.5,2,3],[4,5,6]],[[3,2,1],[4,5,6]]]`."
   ]
  },
  {
   "cell_type": "code",
   "execution_count": 2,
   "metadata": {
    "id": "kmcjSK0BCua3"
   },
   "outputs": [
    {
     "data": {
      "text/plain": [
       "array([1, 2, 3])"
      ]
     },
     "execution_count": 2,
     "metadata": {},
     "output_type": "execute_result"
    }
   ],
   "source": [
    "# 2.1)\n",
    "a = np.array([1,2,3])\n",
    "a"
   ]
  },
  {
   "cell_type": "code",
   "execution_count": 3,
   "metadata": {},
   "outputs": [
    {
     "data": {
      "text/plain": [
       "array([[1.5, 2. , 3. ],\n",
       "       [4. , 5. , 6. ]], dtype=float32)"
      ]
     },
     "execution_count": 3,
     "metadata": {},
     "output_type": "execute_result"
    }
   ],
   "source": [
    "#2.2)\n",
    "b = np.array([[1.5,2,3],[4,5,6]],dtype=np.float32)\n",
    "b"
   ]
  },
  {
   "cell_type": "code",
   "execution_count": 4,
   "metadata": {},
   "outputs": [
    {
     "data": {
      "text/plain": [
       "array([[[1.5, 2. , 3. ],\n",
       "        [4. , 5. , 6. ]],\n",
       "\n",
       "       [[3. , 2. , 1. ],\n",
       "        [4. , 5. , 6. ]]])"
      ]
     },
     "execution_count": 4,
     "metadata": {},
     "output_type": "execute_result"
    }
   ],
   "source": [
    "c = np.array([[[1.5,2,3],[4,5,6]],[[3,2,1],[4,5,6]]],dtype=np.float64)\n",
    "c"
   ]
  },
  {
   "cell_type": "markdown",
   "metadata": {
    "id": "qxuzt1pLQAzE"
   },
   "source": [
    "## **Ejercicio 3)** Inicializando arrays\n",
    "\n",
    "**1)** Utilice `np.zeros` para crear un array bidimensional de flotantes incializados a `0.0`, y de dimensiones de tamaños `(3,4)`.\n",
    "\n",
    "**2)** Utilice `np.ones` para crear un array tridimensional de enteros inicializados a `1`, y de dimensiones `(2,3,4)`.\n",
    "\n",
    "**3)** Utilice `np.arange` para crear un array `d` de valores enteros equiespaciados de a `5` entre `10` y `25`.\n",
    "\n",
    "**4)** Utilice `np.linspace` para crear un array de `9` valores flotantes equiespaciados entre `0.0` y `9.0`.\n",
    "\n",
    "**5)** Utilice `np.full` para crear un array bidimensional llamado `e` de entradas iguales a `7`, y de dimesiones `(2,2)`.\n",
    "\n",
    "**6)** Utilice `np.eye` para crear una matriz identidad llamada `f` de dimensiones 2x2.\n",
    "\n",
    "**7)** Utilice `np.random.random` para crear un array bidimensional de dimensiones 2x2 inicializado con valores aleatorios uniformemente sorteados del intervalo $[0,1]$.\n",
    "\n",
    "**8)** Utilice `np.empty` para crear un array bidimensional sin inicializar y de dimensiones `(3,2)`.\n"
   ]
  },
  {
   "cell_type": "code",
   "execution_count": 5,
   "metadata": {
    "id": "am2dMRPnC0BJ"
   },
   "outputs": [
    {
     "data": {
      "text/plain": [
       "array([[0., 0., 0., 0.],\n",
       "       [0., 0., 0., 0.],\n",
       "       [0., 0., 0., 0.]])"
      ]
     },
     "execution_count": 5,
     "metadata": {},
     "output_type": "execute_result"
    }
   ],
   "source": [
    "# 3.1) \n",
    "zeros_array = np.zeros((3,4))\n",
    "zeros_array"
   ]
  },
  {
   "cell_type": "code",
   "execution_count": 6,
   "metadata": {},
   "outputs": [
    {
     "data": {
      "text/plain": [
       "array([[[1., 1., 1., 1.],\n",
       "        [1., 1., 1., 1.],\n",
       "        [1., 1., 1., 1.]],\n",
       "\n",
       "       [[1., 1., 1., 1.],\n",
       "        [1., 1., 1., 1.],\n",
       "        [1., 1., 1., 1.]]])"
      ]
     },
     "execution_count": 6,
     "metadata": {},
     "output_type": "execute_result"
    }
   ],
   "source": [
    "#3.2)\n",
    "ones_array = np.ones((2,3,4))\n",
    "ones_array"
   ]
  },
  {
   "cell_type": "code",
   "execution_count": 7,
   "metadata": {},
   "outputs": [
    {
     "data": {
      "text/plain": [
       "array([10, 15, 20])"
      ]
     },
     "execution_count": 7,
     "metadata": {},
     "output_type": "execute_result"
    }
   ],
   "source": [
    "#3.3)\n",
    "d = np.arange(10,25,5)\n",
    "d"
   ]
  },
  {
   "cell_type": "code",
   "execution_count": 8,
   "metadata": {},
   "outputs": [
    {
     "data": {
      "text/plain": [
       "array([0.   , 1.125, 2.25 , 3.375, 4.5  , 5.625, 6.75 , 7.875, 9.   ])"
      ]
     },
     "execution_count": 8,
     "metadata": {},
     "output_type": "execute_result"
    }
   ],
   "source": [
    "#3.4)\n",
    "g = np.linspace(0,9,9)\n",
    "g"
   ]
  },
  {
   "cell_type": "code",
   "execution_count": 9,
   "metadata": {},
   "outputs": [
    {
     "data": {
      "text/plain": [
       "array([[7, 7],\n",
       "       [7, 7]])"
      ]
     },
     "execution_count": 9,
     "metadata": {},
     "output_type": "execute_result"
    }
   ],
   "source": [
    "#3.5)\n",
    "e = np.full((2,2),7)\n",
    "e"
   ]
  },
  {
   "cell_type": "code",
   "execution_count": 10,
   "metadata": {},
   "outputs": [
    {
     "data": {
      "text/plain": [
       "array([[1., 0.],\n",
       "       [0., 1.]])"
      ]
     },
     "execution_count": 10,
     "metadata": {},
     "output_type": "execute_result"
    }
   ],
   "source": [
    "#3.6)\n",
    "f = np.eye(2,2)\n",
    "f"
   ]
  },
  {
   "cell_type": "code",
   "execution_count": 11,
   "metadata": {},
   "outputs": [
    {
     "data": {
      "text/plain": [
       "array([[0.81794528, 0.22670236],\n",
       "       [0.41811984, 0.71559628]])"
      ]
     },
     "execution_count": 11,
     "metadata": {},
     "output_type": "execute_result"
    }
   ],
   "source": [
    "#3.7)\n",
    "h = np.random.random((2,2))\n",
    "h"
   ]
  },
  {
   "cell_type": "code",
   "execution_count": 12,
   "metadata": {},
   "outputs": [
    {
     "data": {
      "text/plain": [
       "array([[4.98082036e-310, 0.00000000e+000],\n",
       "       [4.44659081e-323,             nan],\n",
       "       [0.00000000e+000, 4.98200747e-310]])"
      ]
     },
     "execution_count": 12,
     "metadata": {},
     "output_type": "execute_result"
    }
   ],
   "source": [
    "#3.8)\n",
    "i = np.empty((3,2))\n",
    "i"
   ]
  },
  {
   "cell_type": "markdown",
   "metadata": {
    "id": "XYA7TEySCIF6"
   },
   "source": [
    "## **Ejercicio 4)** Inspeccionando arrays\n",
    "\n",
    "Considere los arrays de los ejercicios 2) y 3).\n",
    "\n",
    "**1)** Utilizando `.shape`, determine cuales son las dimensiones del array `a`.\n",
    "\n",
    "**2)** Utilizando la función `len()`, determine el *largo* del array `a`.\n",
    "\n",
    "**3)** Utilizando `.ndim`, determine el número de dimensiones del array `b`.\n",
    "\n",
    "**4)** Utilizando `.size`, determine el número de entradas que tienen `e`.\n",
    "\n",
    "**5)** Utilizando `.dtype`, determine el tipo de los datos contenidos por el array `b`.\n",
    "\n",
    "**6)** Utilizando `.dtype.name`, determine el nombre del tipo de los datos contenidos por el array `b`.\n",
    "\n",
    "**7)** Utilizando `.astype`, convierta el array `b` a un array de tipo `int`.\n",
    "\n"
   ]
  },
  {
   "cell_type": "code",
   "execution_count": 13,
   "metadata": {
    "id": "3w4J3xLLR8J2"
   },
   "outputs": [
    {
     "data": {
      "text/plain": [
       "(3,)"
      ]
     },
     "execution_count": 13,
     "metadata": {},
     "output_type": "execute_result"
    }
   ],
   "source": [
    "# 4.1)\n",
    "a.shape"
   ]
  },
  {
   "cell_type": "code",
   "execution_count": 14,
   "metadata": {},
   "outputs": [
    {
     "data": {
      "text/plain": [
       "3"
      ]
     },
     "execution_count": 14,
     "metadata": {},
     "output_type": "execute_result"
    }
   ],
   "source": [
    "#4.2)\n",
    "len(a)"
   ]
  },
  {
   "cell_type": "code",
   "execution_count": 15,
   "metadata": {},
   "outputs": [
    {
     "data": {
      "text/plain": [
       "2"
      ]
     },
     "execution_count": 15,
     "metadata": {},
     "output_type": "execute_result"
    }
   ],
   "source": [
    "#4.3)\n",
    "b.ndim"
   ]
  },
  {
   "cell_type": "code",
   "execution_count": 16,
   "metadata": {},
   "outputs": [
    {
     "data": {
      "text/plain": [
       "4"
      ]
     },
     "execution_count": 16,
     "metadata": {},
     "output_type": "execute_result"
    }
   ],
   "source": [
    "#4.4)\n",
    "e.size"
   ]
  },
  {
   "cell_type": "code",
   "execution_count": 17,
   "metadata": {},
   "outputs": [
    {
     "data": {
      "text/plain": [
       "dtype('float32')"
      ]
     },
     "execution_count": 17,
     "metadata": {},
     "output_type": "execute_result"
    }
   ],
   "source": [
    "#4.5)\n",
    "b.dtype"
   ]
  },
  {
   "cell_type": "code",
   "execution_count": 18,
   "metadata": {},
   "outputs": [
    {
     "data": {
      "text/plain": [
       "'float32'"
      ]
     },
     "execution_count": 18,
     "metadata": {},
     "output_type": "execute_result"
    }
   ],
   "source": [
    "b.dtype.name"
   ]
  },
  {
   "cell_type": "code",
   "execution_count": 19,
   "metadata": {},
   "outputs": [
    {
     "data": {
      "text/plain": [
       "array([[1, 2, 3],\n",
       "       [4, 5, 6]])"
      ]
     },
     "execution_count": 19,
     "metadata": {},
     "output_type": "execute_result"
    }
   ],
   "source": [
    "b.astype(int)"
   ]
  },
  {
   "cell_type": "markdown",
   "metadata": {
    "id": "NIvk_fOTpihu"
   },
   "source": [
    "## **Ejercicio 5)** Tipos de datos\n",
    "\n",
    "**1)** Cree un array que contenga elementos de tipo `np.int64`.\n",
    "\n",
    "**2)** Cree un array que contenga elementos de tipo `np.float32`.\n",
    "\n",
    "**3)** Cree un array que contenga elementos de tipo `np.complex128`.\n",
    "\n",
    "**4)** Cree un array que contenga elementos de tipo `np.bool`.\n",
    "\n",
    "**5)** Cree un array que contenga elementos de tipo `np.object`.\n",
    "\n",
    "**6)** Cree un array que contenga elementos de tipo `np.bytes_`.\n",
    "\n",
    "**7)** Cree un array que contenga elementos de tipo `np.str_`."
   ]
  },
  {
   "cell_type": "code",
   "execution_count": 20,
   "metadata": {
    "id": "1MHRaUbvpjTl"
   },
   "outputs": [
    {
     "data": {
      "text/plain": [
       "array([1, 2, 3, 4, 5])"
      ]
     },
     "execution_count": 20,
     "metadata": {},
     "output_type": "execute_result"
    }
   ],
   "source": [
    "# 5.1)\n",
    "array_a = np.array([1,2,3,4,5],dtype = np.int64)\n",
    "array_a "
   ]
  },
  {
   "cell_type": "code",
   "execution_count": 21,
   "metadata": {},
   "outputs": [
    {
     "data": {
      "text/plain": [
       "array([1., 2., 3., 4., 5.], dtype=float32)"
      ]
     },
     "execution_count": 21,
     "metadata": {},
     "output_type": "execute_result"
    }
   ],
   "source": [
    "#5.2)\n",
    "array_b = np.array([1,2,3,4,5],dtype = np.float32)\n",
    "array_b "
   ]
  },
  {
   "cell_type": "code",
   "execution_count": 22,
   "metadata": {},
   "outputs": [
    {
     "data": {
      "text/plain": [
       "array([1.+0.j, 2.+0.j, 3.+0.j, 4.+0.j, 5.+0.j])"
      ]
     },
     "execution_count": 22,
     "metadata": {},
     "output_type": "execute_result"
    }
   ],
   "source": [
    "#5.3)\n",
    "array_c = np.array([1,2,3,4,5],dtype = np.complex128)\n",
    "array_c "
   ]
  },
  {
   "cell_type": "code",
   "execution_count": 23,
   "metadata": {},
   "outputs": [
    {
     "data": {
      "text/plain": [
       "array([False,  True,  True])"
      ]
     },
     "execution_count": 23,
     "metadata": {},
     "output_type": "execute_result"
    }
   ],
   "source": [
    "#5.4)\n",
    "array_d = np.array([False,True,True],dtype = np.bool)\n",
    "array_d "
   ]
  },
  {
   "cell_type": "code",
   "execution_count": 24,
   "metadata": {},
   "outputs": [
    {
     "data": {
      "text/plain": [
       "array([array([1, 2, 3]), array([1, 2])], dtype=object)"
      ]
     },
     "execution_count": 24,
     "metadata": {},
     "output_type": "execute_result"
    }
   ],
   "source": [
    "#5.5)\n",
    "array_e = np.array([np.array([1,2,3]),np.array([1,2])],dtype = object)\n",
    "array_e "
   ]
  },
  {
   "cell_type": "code",
   "execution_count": 25,
   "metadata": {},
   "outputs": [
    {
     "data": {
      "text/plain": [
       "array([b'bytes', b'no se'], dtype='|S5')"
      ]
     },
     "execution_count": 25,
     "metadata": {},
     "output_type": "execute_result"
    }
   ],
   "source": [
    "#5.6)\n",
    "array_f = np.array([\"bytes\",\"no se\"],dtype = np.bytes_)\n",
    "array_f "
   ]
  },
  {
   "cell_type": "code",
   "execution_count": 26,
   "metadata": {},
   "outputs": [
    {
     "data": {
      "text/plain": [
       "array([b'string', b'no entiendo que tipo es bytes'], dtype='|S29')"
      ]
     },
     "execution_count": 26,
     "metadata": {},
     "output_type": "execute_result"
    }
   ],
   "source": [
    "#5.7)\n",
    "array_g = np.array([\"string\",\"no entiendo que tipo es bytes\"],dtype = np.bytes_)\n",
    "array_g "
   ]
  },
  {
   "cell_type": "markdown",
   "metadata": {
    "id": "DKT4mjnssUjE"
   },
   "source": [
    "## **Ejercicio 6)** Operando sobre arrays\n",
    "\n",
    "Considere los arrays de los ejercicios 2) y 3).\n",
    "\n",
    "**1)** Calcule la resta `a-b` de los arrays `a` y `b` y almacene el resultado en un array `g`.\n",
    "\n",
    "**2)** Notar que `a` y `b` poseen diferentes dimensiones (i.e., `a.shape` es distinto de `b.shape`) y, sin embargo, en el inciso anterior numpy computa la resta `a-b`. Explique lo que ocurre.\n",
    "\n",
    "**3)** Compare el anterior resultado con el uso de `np.substract`.\n",
    "\n",
    "**4)** Calcule la suma `a+b` de los arrays `a` y `b`.\n",
    "\n",
    "**5)** Compare el anterior resultado con el uso de `np.add`.\n",
    "\n",
    "**6)** Calcule la división punto a punto  `a/b` de `a` y `b`.\n",
    "\n",
    "**7)** Compare el anterior resultado con el uso de `np.divide`.\n",
    "\n",
    "**8)** Calcule la multiplicación punto a punto  `a*b` de `a` y `b`.\n",
    "\n",
    "**9)** Compare el anterior resultado con el uso de `np.multiply`.\n",
    "\n",
    "**10)** Calcule la exponencial punto a punto  `np.exp(b)` de `b`.\n",
    "\n",
    "**11)** Calcule la raíz cuadrada punto a punto  `np.sqrt(b)` de `b`.\n",
    "\n",
    "**12)** Calcule el seno punto a punto  `np.sin(a)` de `a`.\n",
    "\n",
    "**13)** Calcule el coseno punto a punto  `np.cos(b)` de `b`.\n",
    "\n",
    "**14)** Calcule el logaritmo natural punto a punto  `np.log(a)` de `a`.\n",
    "\n",
    "**15)** Calcule el producto punto `e.dot(f)` entre `e` y `f`.\n",
    "\n",
    "**16)** Compare el anterior resultado con el uso de `np.dot`.\n",
    "\n",
    "**17)** Explique las diferentes opciones que puede adoptar el producto punto de numpy según el número de dimensiones que tengan sus factores.\n",
    "\n",
    "**Ayuda:** use https://numpy.org/doc/stable/reference/generated/numpy.dot.html"
   ]
  },
  {
   "cell_type": "code",
   "execution_count": 27,
   "metadata": {
    "id": "S0j5b3fiSZ1U"
   },
   "outputs": [
    {
     "data": {
      "text/plain": [
       "array([[-0.5,  0. ,  0. ],\n",
       "       [-3. , -3. , -3. ]])"
      ]
     },
     "execution_count": 27,
     "metadata": {},
     "output_type": "execute_result"
    }
   ],
   "source": [
    "#6.1)\n",
    "g = a-b\n",
    "g "
   ]
  },
  {
   "cell_type": "code",
   "execution_count": 28,
   "metadata": {},
   "outputs": [
    {
     "name": "stdout",
     "output_type": "stream",
     "text": [
      " se suma a en ambas filas de -b \n",
      "a.shape :  (3,)\n",
      "b.shape: (2, 3)\n"
     ]
    }
   ],
   "source": [
    "#6.2)\n",
    "print(\" se suma a en ambas filas de -b \")\n",
    "print(\"a.shape : \",a.shape)\n",
    "print(\"b.shape:\", b.shape)"
   ]
  },
  {
   "cell_type": "code",
   "execution_count": 29,
   "metadata": {},
   "outputs": [
    {
     "data": {
      "text/plain": [
       "array([[-0.5,  0. ,  0. ],\n",
       "       [-3. , -3. , -3. ]])"
      ]
     },
     "execution_count": 29,
     "metadata": {},
     "output_type": "execute_result"
    }
   ],
   "source": [
    "#6.3)\n",
    "np.subtract(a,b) # es lo mismo"
   ]
  },
  {
   "cell_type": "code",
   "execution_count": 30,
   "metadata": {},
   "outputs": [
    {
     "data": {
      "text/plain": [
       "array([[2.5, 4. , 6. ],\n",
       "       [5. , 7. , 9. ]])"
      ]
     },
     "execution_count": 30,
     "metadata": {},
     "output_type": "execute_result"
    }
   ],
   "source": [
    "#6.4)\n",
    "a+b"
   ]
  },
  {
   "cell_type": "code",
   "execution_count": 31,
   "metadata": {},
   "outputs": [
    {
     "data": {
      "text/plain": [
       "array([[2.5, 4. , 6. ],\n",
       "       [5. , 7. , 9. ]])"
      ]
     },
     "execution_count": 31,
     "metadata": {},
     "output_type": "execute_result"
    }
   ],
   "source": [
    "#6.5)\n",
    "np.add(a,b) # es lo mismo"
   ]
  },
  {
   "cell_type": "code",
   "execution_count": 32,
   "metadata": {},
   "outputs": [
    {
     "data": {
      "text/plain": [
       "array([[0.66666667, 1.        , 1.        ],\n",
       "       [0.25      , 0.4       , 0.5       ]])"
      ]
     },
     "execution_count": 32,
     "metadata": {},
     "output_type": "execute_result"
    }
   ],
   "source": [
    "#6.6)\n",
    "a/b"
   ]
  },
  {
   "cell_type": "code",
   "execution_count": 33,
   "metadata": {},
   "outputs": [
    {
     "data": {
      "text/plain": [
       "array([[0.66666667, 1.        , 1.        ],\n",
       "       [0.25      , 0.4       , 0.5       ]])"
      ]
     },
     "execution_count": 33,
     "metadata": {},
     "output_type": "execute_result"
    }
   ],
   "source": [
    "#6.7)\n",
    "np.divide(a,b) # es lo mismo"
   ]
  },
  {
   "cell_type": "code",
   "execution_count": 34,
   "metadata": {},
   "outputs": [
    {
     "data": {
      "text/plain": [
       "array([[ 1.5,  4. ,  9. ],\n",
       "       [ 4. , 10. , 18. ]])"
      ]
     },
     "execution_count": 34,
     "metadata": {},
     "output_type": "execute_result"
    }
   ],
   "source": [
    "#6.8)\n",
    "a*b"
   ]
  },
  {
   "cell_type": "code",
   "execution_count": 35,
   "metadata": {},
   "outputs": [
    {
     "data": {
      "text/plain": [
       "array([[ 1.5,  4. ,  9. ],\n",
       "       [ 4. , 10. , 18. ]])"
      ]
     },
     "execution_count": 35,
     "metadata": {},
     "output_type": "execute_result"
    }
   ],
   "source": [
    "#6.9)\n",
    "np.multiply(a,b)# es lo mismo"
   ]
  },
  {
   "cell_type": "code",
   "execution_count": 36,
   "metadata": {},
   "outputs": [
    {
     "data": {
      "text/plain": [
       "array([[  4.481689 ,   7.3890557,  20.085537 ],\n",
       "       [ 54.59815  , 148.41316  , 403.42877  ]], dtype=float32)"
      ]
     },
     "execution_count": 36,
     "metadata": {},
     "output_type": "execute_result"
    }
   ],
   "source": [
    "#6.10)\n",
    "np.exp(b)"
   ]
  },
  {
   "cell_type": "code",
   "execution_count": 37,
   "metadata": {},
   "outputs": [
    {
     "data": {
      "text/plain": [
       "array([[1.2247449, 1.4142135, 1.7320508],\n",
       "       [2.       , 2.236068 , 2.4494898]], dtype=float32)"
      ]
     },
     "execution_count": 37,
     "metadata": {},
     "output_type": "execute_result"
    }
   ],
   "source": [
    "#6.11)\n",
    "np.sqrt(b)"
   ]
  },
  {
   "cell_type": "code",
   "execution_count": 38,
   "metadata": {},
   "outputs": [
    {
     "data": {
      "text/plain": [
       "array([0.84147098, 0.90929743, 0.14112001])"
      ]
     },
     "execution_count": 38,
     "metadata": {},
     "output_type": "execute_result"
    }
   ],
   "source": [
    "#6.12)\n",
    "np.sin(a)"
   ]
  },
  {
   "cell_type": "code",
   "execution_count": 39,
   "metadata": {},
   "outputs": [
    {
     "data": {
      "text/plain": [
       "array([[ 0.0707372 , -0.4161468 , -0.9899925 ],\n",
       "       [-0.6536436 ,  0.28366217,  0.96017027]], dtype=float32)"
      ]
     },
     "execution_count": 39,
     "metadata": {},
     "output_type": "execute_result"
    }
   ],
   "source": [
    "#6.13)\n",
    "np.cos(b)"
   ]
  },
  {
   "cell_type": "code",
   "execution_count": 40,
   "metadata": {},
   "outputs": [
    {
     "data": {
      "text/plain": [
       "array([0.        , 0.69314718, 1.09861229])"
      ]
     },
     "execution_count": 40,
     "metadata": {},
     "output_type": "execute_result"
    }
   ],
   "source": [
    "#6.14)\n",
    "np.log(a)"
   ]
  },
  {
   "cell_type": "code",
   "execution_count": 41,
   "metadata": {},
   "outputs": [
    {
     "data": {
      "text/plain": [
       "array([[7., 7.],\n",
       "       [7., 7.]])"
      ]
     },
     "execution_count": 41,
     "metadata": {},
     "output_type": "execute_result"
    }
   ],
   "source": [
    "#6.15)\n",
    "e.dot(f)\n"
   ]
  },
  {
   "cell_type": "code",
   "execution_count": 42,
   "metadata": {},
   "outputs": [
    {
     "data": {
      "text/plain": [
       "array([[7., 7.],\n",
       "       [7., 7.]])"
      ]
     },
     "execution_count": 42,
     "metadata": {},
     "output_type": "execute_result"
    }
   ],
   "source": [
    "#6.16)\n",
    "np.dot(e,f)"
   ]
  },
  {
   "cell_type": "code",
   "execution_count": 43,
   "metadata": {},
   "outputs": [
    {
     "data": {
      "text/plain": [
       "'\\n\\nSi multiplicás vectores 1D, np.dot devuelve un escalar (producto interno).\\n\\nnp.dot([1, 2], [3, 4])  # 1*3 + 2*4 = 11\\n\\n\\nSi multiplicás matrices 2D, np.dot hace multiplicación matricial y devuelve otra matriz.\\n\\nnp.dot([[a, b], [c, d]], [[e, f], [g, h]])  \\n# -> matriz 2x2\\n\\n'"
      ]
     },
     "execution_count": 43,
     "metadata": {},
     "output_type": "execute_result"
    }
   ],
   "source": [
    "#6.17)\n",
    "'''\n",
    "\n",
    "Si multiplicás vectores 1D, np.dot devuelve un escalar (producto interno).\n",
    "\n",
    "np.dot([1, 2], [3, 4])  # 1*3 + 2*4 = 11\n",
    "\n",
    "\n",
    "Si multiplicás matrices 2D, np.dot hace multiplicación matricial y devuelve otra matriz.\n",
    "\n",
    "np.dot([[a, b], [c, d]], [[e, f], [g, h]])  \n",
    "# -> matriz 2x2\n",
    "\n",
    "'''"
   ]
  },
  {
   "cell_type": "markdown",
   "metadata": {
    "id": "Jo3x-Y7WZBBu"
   },
   "source": [
    "## **Ejercicio 7)** Comparando arrays\n",
    "\n",
    "**1)** Use `==` para realizar una compación punto a punto de los arrays `a` y `b`.\n",
    "\n",
    "**2)** Use `<` para realizar una comparación punto a punto del array `b` con el escalar `2`.\n",
    "\n",
    "**3)** Use `np.array_equal(a,b)` para determinar si `a` y `b` son iguales como arrays."
   ]
  },
  {
   "cell_type": "code",
   "execution_count": 44,
   "metadata": {
    "id": "H9n8g9-GZAM6"
   },
   "outputs": [
    {
     "data": {
      "text/plain": [
       "array([[False,  True,  True],\n",
       "       [False, False, False]])"
      ]
     },
     "execution_count": 44,
     "metadata": {},
     "output_type": "execute_result"
    }
   ],
   "source": [
    "# 7.1)\n",
    "a == b"
   ]
  },
  {
   "cell_type": "code",
   "execution_count": 45,
   "metadata": {},
   "outputs": [
    {
     "data": {
      "text/plain": [
       "array([[ True, False, False],\n",
       "       [ True,  True,  True]])"
      ]
     },
     "execution_count": 45,
     "metadata": {},
     "output_type": "execute_result"
    }
   ],
   "source": [
    "#7.2)\n",
    "a<b"
   ]
  },
  {
   "cell_type": "code",
   "execution_count": 46,
   "metadata": {},
   "outputs": [
    {
     "data": {
      "text/plain": [
       "False"
      ]
     },
     "execution_count": 46,
     "metadata": {},
     "output_type": "execute_result"
    }
   ],
   "source": [
    "#7.3)\n",
    "np.array_equal(a,b)"
   ]
  },
  {
   "cell_type": "markdown",
   "metadata": {
    "id": "JUrKqiWLZScG"
   },
   "source": [
    "## **Ejercicio 8)** *Copiando* arrays\n",
    "\n",
    "**1)** Use `.view()` para crear una vista llamada `h` del array `a`.\n",
    "\n",
    "**2)** Use `.copy()` para crear una copia del array `a`."
   ]
  },
  {
   "cell_type": "code",
   "execution_count": 47,
   "metadata": {
    "id": "7bQI_mVoZRoS"
   },
   "outputs": [
    {
     "data": {
      "text/plain": [
       "array([1, 2, 3])"
      ]
     },
     "execution_count": 47,
     "metadata": {},
     "output_type": "execute_result"
    }
   ],
   "source": [
    "# 8.1)\n",
    "h = a.view()\n",
    "h    # la diferencia es que si se modifica una vista , se modifica tambbien el array originakl, es como un puntero nuevo que apnta al mismo dato"
   ]
  },
  {
   "cell_type": "code",
   "execution_count": 48,
   "metadata": {},
   "outputs": [
    {
     "data": {
      "text/plain": [
       "array([1, 2, 3])"
      ]
     },
     "execution_count": 48,
     "metadata": {},
     "output_type": "execute_result"
    }
   ],
   "source": [
    "#8.2)\n",
    "a_copy = a.copy()\n",
    "a_copy"
   ]
  },
  {
   "cell_type": "markdown",
   "metadata": {
    "id": "rBJYDjW8ZZNw"
   },
   "source": [
    "## **Ejercicio 9)** Ordenado\n",
    "\n",
    "**1)** Use `.sort()` para ordenar los elementos de `a`.\n",
    "\n",
    "**2)** Ordene los elementos de `c` a lo largo del eje `0`. Explique."
   ]
  },
  {
   "cell_type": "code",
   "execution_count": 49,
   "metadata": {
    "id": "NNNzAqsmljKV"
   },
   "outputs": [
    {
     "name": "stdout",
     "output_type": "stream",
     "text": [
      "a(al reves)= [3 2 1]\n"
     ]
    },
    {
     "data": {
      "text/plain": [
       "array([1, 2, 3])"
      ]
     },
     "execution_count": 49,
     "metadata": {},
     "output_type": "execute_result"
    }
   ],
   "source": [
    "# 9.1)\n",
    "a = a[::-1] \n",
    "print(\"a(al reves)=\",a)\n",
    "a.sort()\n",
    "a"
   ]
  },
  {
   "cell_type": "code",
   "execution_count": 50,
   "metadata": {},
   "outputs": [
    {
     "data": {
      "text/plain": [
       "array([[[1.5, 2. , 1. ],\n",
       "        [4. , 5. , 6. ]],\n",
       "\n",
       "       [[3. , 2. , 3. ],\n",
       "        [4. , 5. , 6. ]]])"
      ]
     },
     "execution_count": 50,
     "metadata": {},
     "output_type": "execute_result"
    }
   ],
   "source": [
    "#9.2) \n",
    "np.sort(c,axis=0)"
   ]
  },
  {
   "cell_type": "code",
   "execution_count": 51,
   "metadata": {},
   "outputs": [
    {
     "data": {
      "text/plain": [
       "array([[[ 2. ,  1.5,  3. ],\n",
       "        [ 6. ,  5. ,  4. ]],\n",
       "\n",
       "       [[ 4. ,  2. ,  6. ],\n",
       "        [20. ,  5. ,  7. ]]])"
      ]
     },
     "execution_count": 51,
     "metadata": {},
     "output_type": "execute_result"
    }
   ],
   "source": [
    "array_kk =  np.array([[[6. , 5, 4. ],\n",
    "        [2. , 1.5 , 3. ]],\n",
    "\n",
    "       [[20. , 2. , 7. ],\n",
    "        [4. , 5. , 6. ]]])\n",
    "\n",
    "\n",
    "np.sort(array_kk,axis=1)"
   ]
  },
  {
   "cell_type": "markdown",
   "metadata": {
    "id": "eLeebs0YZlLK"
   },
   "source": [
    "## **Ejercicio 10)** Indexado y *slicing* (rebanado) de arrays\n",
    "\n",
    "**1)** Seleccione el segundo elemento de `a`.\n",
    "\n",
    "**2)** Seleccione el elemento en la fila 1 y columna 2 de `b`.\n",
    "\n",
    "Si `n` y `m` son enteros, luego `[n:m]` indica el rango de índices que van desde `n` hasta `m-1`.\n",
    "\n",
    "**3)** Seleccione el rango `[0:2]` de elementos de `a`.\n",
    "\n",
    "**4)** Seleccione los elementos de `b` en el rango `[0:2]` de filas y la columna `1`.\n",
    "\n",
    "**5)** Seleccione todos los elementos de `b` que esten en el rango de filas `[0:1]` y el rango completo de columnas.\n",
    "\n",
    "**6)** Uso de *elipsis*. Seleccione los elementos de `c` indexados por `[1,...]`. Es esto lo mismo que lo indexado por `[1,:,:]`?\n",
    "\n",
    "Si `n`, `m` y `s` son enteros, luego `[n:m:s]` indica el rango de índices que van desde `n` hasta `m-1` saltando de a `s` elementos.\n",
    "\n",
    "**7)** Utilice lo mencionado anteriormente para acceder a los elementos de `a` de forma invertida.\n",
    "\n",
    "**8)** Seleccione los elementos de `a` que sean menores que dos.\n",
    "\n",
    "**9)** Seleccione los elementos de `b` indicados por la lista de índices `[(1,0),(0,1),(1,2),(0,0)]` utilizando, correspondientemente, una lista de indices fila y una lista de índices columna.\n",
    "\n",
    "**10)** Utilizando una lista de indices fila, seleccione las filas `1,0,1,0` de `b`, y luego, para cada selección anterior, utilice una lista de índices columna para seleccionar las columnas `0,1,2,0`."
   ]
  },
  {
   "cell_type": "code",
   "execution_count": 52,
   "metadata": {
    "id": "DKfWU3ABZrO6"
   },
   "outputs": [
    {
     "data": {
      "text/plain": [
       "np.int64(2)"
      ]
     },
     "execution_count": 52,
     "metadata": {},
     "output_type": "execute_result"
    }
   ],
   "source": [
    "# 10.1)\n",
    "a[1]"
   ]
  },
  {
   "cell_type": "code",
   "execution_count": 53,
   "metadata": {},
   "outputs": [
    {
     "data": {
      "text/plain": [
       "np.float32(2.0)"
      ]
     },
     "execution_count": 53,
     "metadata": {},
     "output_type": "execute_result"
    }
   ],
   "source": [
    "#10.2)\n",
    "b[0][1]"
   ]
  },
  {
   "cell_type": "code",
   "execution_count": 54,
   "metadata": {},
   "outputs": [
    {
     "data": {
      "text/plain": [
       "array([1, 2])"
      ]
     },
     "execution_count": 54,
     "metadata": {},
     "output_type": "execute_result"
    }
   ],
   "source": [
    "#10.3)\n",
    "a[0:2]"
   ]
  },
  {
   "cell_type": "code",
   "execution_count": 55,
   "metadata": {},
   "outputs": [
    {
     "data": {
      "text/plain": [
       "array([1.5, 2. ], dtype=float32)"
      ]
     },
     "execution_count": 55,
     "metadata": {},
     "output_type": "execute_result"
    }
   ],
   "source": [
    "#10.4)\n",
    "b[0][0:2]"
   ]
  },
  {
   "cell_type": "code",
   "execution_count": 56,
   "metadata": {},
   "outputs": [
    {
     "data": {
      "text/plain": [
       "array([[1.5, 2. , 3. ]], dtype=float32)"
      ]
     },
     "execution_count": 56,
     "metadata": {},
     "output_type": "execute_result"
    }
   ],
   "source": [
    "#10.5)\n",
    "b[0:1]"
   ]
  },
  {
   "cell_type": "code",
   "execution_count": 57,
   "metadata": {},
   "outputs": [
    {
     "name": "stdout",
     "output_type": "stream",
     "text": [
      "[[3. 2. 1.]\n",
      " [4. 5. 6.]]\n",
      "------------------\n",
      "[[3. 2. 1.]\n",
      " [4. 5. 6.]]\n"
     ]
    }
   ],
   "source": [
    "#10.6)\n",
    "print(c[1,...])\n",
    "print(\"------------------\")\n",
    "print(c[1,:,:])\n",
    "#si, son lo mismo"
   ]
  },
  {
   "cell_type": "code",
   "execution_count": 58,
   "metadata": {},
   "outputs": [
    {
     "data": {
      "text/plain": [
       "array([3, 2, 1])"
      ]
     },
     "execution_count": 58,
     "metadata": {},
     "output_type": "execute_result"
    }
   ],
   "source": [
    "#10.7)\n",
    "a[::-1]"
   ]
  },
  {
   "cell_type": "code",
   "execution_count": 59,
   "metadata": {},
   "outputs": [
    {
     "data": {
      "text/plain": [
       "array([1])"
      ]
     },
     "execution_count": 59,
     "metadata": {},
     "output_type": "execute_result"
    }
   ],
   "source": [
    "#10.8)\n",
    "a[a<2]"
   ]
  },
  {
   "cell_type": "code",
   "execution_count": 60,
   "metadata": {},
   "outputs": [
    {
     "data": {
      "text/plain": [
       "array([4. , 2. , 6. , 1.5], dtype=float32)"
      ]
     },
     "execution_count": 60,
     "metadata": {},
     "output_type": "execute_result"
    }
   ],
   "source": [
    "#10.9)\n",
    "indices_fila = [1,0,1,0]\n",
    "indices_col = [0,1,2,0]\n",
    "b[indices_fila,indices_col]"
   ]
  },
  {
   "cell_type": "code",
   "execution_count": 61,
   "metadata": {},
   "outputs": [
    {
     "data": {
      "text/plain": [
       "array([[4., 5., 6.],\n",
       "       [4., 5., 6.],\n",
       "       [4., 5., 6.],\n",
       "       [4., 5., 6.]], dtype=float32)"
      ]
     },
     "execution_count": 61,
     "metadata": {},
     "output_type": "execute_result"
    }
   ],
   "source": [
    "b[[1,1,1,1]]"
   ]
  },
  {
   "cell_type": "code",
   "execution_count": 62,
   "metadata": {},
   "outputs": [
    {
     "name": "stdout",
     "output_type": "stream",
     "text": [
      "[4.  2.  6.  1.5]\n"
     ]
    }
   ],
   "source": [
    "#10.10)\n",
    "# 1. Seleccionamos las filas en el orden deseado\n",
    "filas_seleccionadas = b [[1 , 0 , 1 , 0]]\n",
    "# Esto crea una nueva matriz 4x3 con las filas repetidas\n",
    "# [[4. 5. 6.]\n",
    "# [1.5 2. 3.]\n",
    "# [4. 5. 6.]\n",
    "# [1.5 2. 3.]]\n",
    "# 2. De este resultado , seleccionamos los elementos usando indices de columna\n",
    "# La logica es la misma que el punto anterior , combinando los indices\n",
    "columnas_a_seleccionar = [0 , 1 , 2 , 0]\n",
    "resultado_final = b [[1 , 0 , 1 , 0] , columnas_a_seleccionar ]\n",
    "print ( resultado_final )\n",
    "# Salida : [4. 2. 6. 1.5]"
   ]
  },
  {
   "cell_type": "markdown",
   "metadata": {
    "id": "ElU003n_Z21x"
   },
   "source": [
    "## **Ejercicio 11)** transposición\n",
    "\n",
    "**1)** Use `np.transpose()` para calcular la traspuesta del array `b`, y asignarlo a una variable `i`.\n",
    "\n",
    "**2)** Use `.T` para acceder a `i` de forma traspuesta. Es esta forma traspuesta igual a `b`?"
   ]
  },
  {
   "cell_type": "code",
   "execution_count": 63,
   "metadata": {
    "id": "PdUyQZaibDQk"
   },
   "outputs": [
    {
     "data": {
      "text/plain": [
       "array([[1.5, 4. ],\n",
       "       [2. , 5. ],\n",
       "       [3. , 6. ]], dtype=float32)"
      ]
     },
     "execution_count": 63,
     "metadata": {},
     "output_type": "execute_result"
    }
   ],
   "source": [
    "# 11.1)\n",
    "i = np.transpose(b)\n",
    "i"
   ]
  },
  {
   "cell_type": "code",
   "execution_count": 64,
   "metadata": {},
   "outputs": [
    {
     "data": {
      "text/plain": [
       "array([[1.5, 2. , 3. ],\n",
       "       [4. , 5. , 6. ]], dtype=float32)"
      ]
     },
     "execution_count": 64,
     "metadata": {},
     "output_type": "execute_result"
    }
   ],
   "source": [
    "#11.2)\n",
    "i.T"
   ]
  },
  {
   "cell_type": "markdown",
   "metadata": {
    "id": "QIaiu19baXiQ"
   },
   "source": [
    "## **Ejercicio 12)** Redimensionado\n",
    "\n",
    "**1)** Use `.ravel()` para *achatar* el array `b`.\n",
    "\n",
    "**2)** Use `.reshape()` para redimensionar el array `g` de manera que adquiera dimensiones especificadas por la tupla `(3,-2)`.\n",
    "\n",
    "**3)** Que indica aquí el signo negativo del segundo índice?"
   ]
  },
  {
   "cell_type": "code",
   "execution_count": 65,
   "metadata": {
    "id": "3f1juN38aUiO"
   },
   "outputs": [
    {
     "data": {
      "text/plain": [
       "array([1.5, 2. , 3. , 4. , 5. , 6. ], dtype=float32)"
      ]
     },
     "execution_count": 65,
     "metadata": {},
     "output_type": "execute_result"
    }
   ],
   "source": [
    "# 12.1)\n",
    "b.ravel()"
   ]
  },
  {
   "cell_type": "code",
   "execution_count": 66,
   "metadata": {},
   "outputs": [
    {
     "data": {
      "text/plain": [
       "array([[-0.5,  0. ],\n",
       "       [ 0. , -3. ],\n",
       "       [-3. , -3. ]])"
      ]
     },
     "execution_count": 66,
     "metadata": {},
     "output_type": "execute_result"
    }
   ],
   "source": [
    "#12.2)\n",
    "g.reshape((3,-2))\n",
    "#12.3) es lo mismo que poner un -1, el signo calcula automaticamente la dimension faltante, hace 6/3"
   ]
  },
  {
   "cell_type": "markdown",
   "metadata": {
    "id": "-NfN6hr4afE9"
   },
   "source": [
    "## **Ejercicio 13)** Agregando y quitando elementos\n",
    "\n",
    "**1)** Use `np.resize()` para crear a partir del array `h` un nuevo array de tamaño y dimensiones diferentes indicadas por `(2,6)`.\n",
    "\n",
    "**2)** Use `np.append()` para crear un nuevo array que agrege los elementos de `g` al final de los elementos de `h`. Notar que `h` y `g` tienen diferentes dimensiones. Cómo resuelve `numpy` esta cuestión?\n",
    "\n",
    "**3)** Use `np.insert()` para crear una copia de `a` en donde se inserta el número `5` en la posición indexada por `1`.\n",
    "\n",
    "**4)** Use `np.delete()` para eliminar los elementos de `a` indicados por la lista de índices `[1]`."
   ]
  },
  {
   "cell_type": "code",
   "execution_count": 67,
   "metadata": {
    "id": "eHAdt7bUaRN2"
   },
   "outputs": [
    {
     "data": {
      "text/plain": [
       "array([[3, 2, 1, 3, 2, 1],\n",
       "       [3, 2, 1, 3, 2, 1]])"
      ]
     },
     "execution_count": 67,
     "metadata": {},
     "output_type": "execute_result"
    }
   ],
   "source": [
    "# 13.1)\n",
    "np.resize(h,(2,6))"
   ]
  },
  {
   "cell_type": "code",
   "execution_count": 68,
   "metadata": {},
   "outputs": [
    {
     "data": {
      "text/plain": [
       "array([ 3. ,  2. ,  1. , -0.5,  0. ,  0. , -3. , -3. , -3. ])"
      ]
     },
     "execution_count": 68,
     "metadata": {},
     "output_type": "execute_result"
    }
   ],
   "source": [
    "# 13.2)\n",
    "np.append(h,g)\n",
    "#aplana todo y despues los concatena en el orden de los parametros"
   ]
  },
  {
   "cell_type": "code",
   "execution_count": 75,
   "metadata": {},
   "outputs": [
    {
     "data": {
      "text/plain": [
       "array([1, 5, 2, 3])"
      ]
     },
     "execution_count": 75,
     "metadata": {},
     "output_type": "execute_result"
    }
   ],
   "source": [
    "# 13.3)\n",
    "np.insert(a,1,5)"
   ]
  },
  {
   "cell_type": "code",
   "execution_count": 76,
   "metadata": {},
   "outputs": [
    {
     "data": {
      "text/plain": [
       "array([1, 3])"
      ]
     },
     "execution_count": 76,
     "metadata": {},
     "output_type": "execute_result"
    }
   ],
   "source": [
    "# 13.4)\n",
    "np.delete(a,1)"
   ]
  },
  {
   "cell_type": "markdown",
   "metadata": {
    "id": "qtvq4B1NaRhe"
   },
   "source": [
    "## **Ejercicio 14)** Combinando arrays\n",
    "\n",
    "**a)** Use `np.concatenate()` para concatenar los arrays `a` y `d`.\n",
    "\n",
    "**b)** Use `np.vstack()` para apilar verticalmente los arrays `a` y `b`.\n",
    "\n",
    "**c)** Use `np.hstack()` para apilar horizontalmente los arrays `e` y `f`."
   ]
  },
  {
   "cell_type": "code",
   "execution_count": 79,
   "metadata": {
    "id": "0NqrIYB3bB61"
   },
   "outputs": [
    {
     "data": {
      "text/plain": [
       "array([ 1,  2,  3, 10, 15, 20])"
      ]
     },
     "execution_count": 79,
     "metadata": {},
     "output_type": "execute_result"
    }
   ],
   "source": [
    "# 14.1)\n",
    "np.concatenate((a,d))"
   ]
  },
  {
   "cell_type": "code",
   "execution_count": 81,
   "metadata": {},
   "outputs": [
    {
     "data": {
      "text/plain": [
       "array([[1. , 2. , 3. ],\n",
       "       [1.5, 2. , 3. ],\n",
       "       [4. , 5. , 6. ]])"
      ]
     },
     "execution_count": 81,
     "metadata": {},
     "output_type": "execute_result"
    }
   ],
   "source": [
    "# 14.2)\n",
    "np.vstack((a,b))"
   ]
  },
  {
   "cell_type": "code",
   "execution_count": 82,
   "metadata": {},
   "outputs": [
    {
     "data": {
      "text/plain": [
       "array([[7., 7., 1., 0.],\n",
       "       [7., 7., 0., 1.]])"
      ]
     },
     "execution_count": 82,
     "metadata": {},
     "output_type": "execute_result"
    }
   ],
   "source": [
    "#14.3)\n",
    "np.hstack((e,f))"
   ]
  },
  {
   "cell_type": "markdown",
   "metadata": {
    "id": "QXtaTV8aazoG"
   },
   "source": [
    "## **Ejercicio 15)** *Separando* arrays\n",
    "\n",
    "**a)** Use `np.hsplit()` para separar horizontalmente el array `a` en 3 partes.\n",
    "\n",
    "**b)** Use `np.vsplit()` para separar verticalmente el array `c` en 2 partes.\n",
    "\n",
    "**c)** Cree el array `z` dado por\n",
    "\n",
    "    [[1, 2, 3, 4],\n",
    "    [2, 0, 0, 2],\n",
    "    [3, 1, 1, 0]]\n",
    "\n",
    "y sepárelo en dos partes a lo largo del eje `1`."
   ]
  },
  {
   "cell_type": "code",
   "execution_count": 84,
   "metadata": {
    "id": "w1zDcFsua-lN"
   },
   "outputs": [
    {
     "data": {
      "text/plain": [
       "[array([1]), array([2]), array([3])]"
      ]
     },
     "execution_count": 84,
     "metadata": {},
     "output_type": "execute_result"
    }
   ],
   "source": [
    "# 15.a)\n",
    "np.hsplit(a,3)"
   ]
  },
  {
   "cell_type": "code",
   "execution_count": 85,
   "metadata": {},
   "outputs": [
    {
     "data": {
      "text/plain": [
       "[array([[[1.5, 2. , 3. ],\n",
       "         [4. , 5. , 6. ]]]),\n",
       " array([[[3., 2., 1.],\n",
       "         [4., 5., 6.]]])]"
      ]
     },
     "execution_count": 85,
     "metadata": {},
     "output_type": "execute_result"
    }
   ],
   "source": [
    "#15.b)\n",
    "np.vsplit(c,2)"
   ]
  },
  {
   "cell_type": "code",
   "execution_count": 86,
   "metadata": {},
   "outputs": [
    {
     "data": {
      "text/plain": [
       "[array([[1, 2],\n",
       "        [2, 0],\n",
       "        [3, 1]]),\n",
       " array([[3, 4],\n",
       "        [0, 2],\n",
       "        [1, 0]])]"
      ]
     },
     "execution_count": 86,
     "metadata": {},
     "output_type": "execute_result"
    }
   ],
   "source": [
    "#15.c)\n",
    "z = np.array([[1, 2, 3, 4],[2, 0, 0, 2],[3, 1, 1, 0]])\n",
    "\n",
    "np.hsplit(z,2)"
   ]
  },
  {
   "cell_type": "markdown",
   "metadata": {
    "id": "sBolXn9yxIU7"
   },
   "source": [
    "## **Ejercicio 16)** Generando números aleatorios\n",
    "\n",
    "**1)** Use `np.random.random()` para generar un número aleatorio de tipo float64 a partir de la distribución uniforme en $[0,1]$.\n",
    "\n",
    "**2)** Use `np.random.random()` para crear un array de 10 números aleatorios de tipo float64 generados a partir de la distribución uniforme en $[0,1]$.\n",
    "\n",
    "**3)** Use `np.random.random()` para crear un array dos dimensional de dimensiones `(3,4)` conteniendo números aleatorios de tipo float64 generados a partir de la distribución uniforme en $[0,1]$.\n",
    "\n",
    "**4)** Use `np.random.randn()` para generar un número aleatorio de tipo float64 a partir de la distribución normal centrada en $\\mu=0$ y de varianza $\\sigma^2=1$.\n",
    "\n",
    "**5)** Use `np.random.randn()` para generar un número aleatorio de tipo float64 a partir de la distribución normal centrada en $\\mu=5$ y de varianza $\\sigma^2=9$.\n",
    "\n",
    "**6)** Use `np.random.randn()` para generar un array de dimensiones `(3,2,3)` conteniendo números aleatorios de tipo float64 generados a partir de la distribución normal centrada en $\\mu=-1$ y de varianza $\\sigma^2=2$.\n",
    "\n",
    "**7)** Use `np.random.randint()` para generar un número aleatorio de tipo int64 a partir de la distribución uniforme en $\\{0,1,2,3\\}$.\n",
    "\n",
    "**8)** Use `np.random.randint()` para generar un número aleatorio de tipo int64 a partir de la distribución uniforme en $\\{10,11,12,13,14,15\\}$.\n",
    "\n",
    "**9)** Use `np.random.randint()` para generar un array de dimensiones `(3,2,3)` conteniendo números aleatorios de tipo int64 generados a partir de la distribución uniforme en $\\{0,1\\}$.\n",
    "\n",
    "**10)** Use `np.random.choice()` para seleccionar uniformemente al azar un elemento de la lista `[\"perro\",\"gato\",\"loro\",\"caballo\",\"vaca\"]`.\n",
    "\n",
    "**11)** Use `np.random.choice()` para crear un array de dimensiones `(3,3)` con selecciones generadas uniformemente al azar de los elementos de la lista `[\"perro\",\"gato\",\"loro\",\"caballo\",\"vaca\"]`.\n",
    "\n",
    "**12)** Use `np.random.choice()` para crear un array de dimensiones `(3,3,3)` con selecciones generadas al azar de los elementos de la lista `[\"perro\",\"gato\",\"loro\",\"caballo\",\"vaca\"]` de acuerdo a la correspondiente lista de probabilidades `[8/16,4/16,2/16,1/16,1/16]`.\n",
    "\n",
    "**13)** Use `np.random.permutation()` generar una permutación, seleccionada uniformemente al azar una de las `n!` permutaciones que existen de un conjunto de `n` elementos, de una la lista de números entre `0` y `n-1` para `n=10` denominada `lista_n`.\n",
    "\n",
    "**14)** Repita lo anterior usando `np.random.shuffle()` para aleatorizar la lista `lista_n` *in situ*."
   ]
  },
  {
   "cell_type": "code",
   "execution_count": 73,
   "metadata": {
    "id": "UMoFrNm1xEns"
   },
   "outputs": [],
   "source": [
    "# 16.1)"
   ]
  }
 ],
 "metadata": {
  "colab": {
   "provenance": []
  },
  "kernelspec": {
   "display_name": "Python 3 (ipykernel)",
   "language": "python",
   "name": "python3"
  },
  "language_info": {
   "codemirror_mode": {
    "name": "ipython",
    "version": 3
   },
   "file_extension": ".py",
   "mimetype": "text/x-python",
   "name": "python",
   "nbconvert_exporter": "python",
   "pygments_lexer": "ipython3",
   "version": "3.12.1"
  }
 },
 "nbformat": 4,
 "nbformat_minor": 4
}
