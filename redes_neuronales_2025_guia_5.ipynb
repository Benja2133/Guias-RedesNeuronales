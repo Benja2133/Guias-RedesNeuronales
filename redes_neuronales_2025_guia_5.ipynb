{
 "cells": [
  {
   "cell_type": "markdown",
   "metadata": {
    "colab_type": "text",
    "id": "view-in-github"
   },
   "source": [
    "<a href=\"https://colab.research.google.com/github/Benja2133/Guias-RedesNeuronales/blob/main/redes_neuronales_2025_guia_5.ipynb\" target=\"_parent\"><img src=\"https://colab.research.google.com/assets/colab-badge.svg\" alt=\"Open In Colab\"/></a>"
   ]
  },
  {
   "cell_type": "markdown",
   "metadata": {
    "id": "NRYEofSD0xoF"
   },
   "source": [
    "# El modelo *Integrate and Fire*\n",
    "\n",
    "## Teoría\n",
    "\n",
    "El modelo *Integrate and Fire* del comportamiento de una neurona viene descripto por dos ingredientes. En primer lugar, la ODE\n",
    "\n",
    "\\begin{eqnarray}\n",
    "\\frac{dV}{dt}\n",
    "&=&\n",
    "f(V(t))\n",
    "\\\\\n",
    "&=&\n",
    "\\frac{1}{\\tau}\n",
    "\\left(\n",
    "E-V(t)\n",
    "+\n",
    "RI(t)\n",
    "\\right)\n",
    "\\end{eqnarray}\n",
    "\n",
    "donde:\n",
    "\n",
    "* $V(t)$ representa el potencial de membrana al tiempo $t$,\n",
    "\n",
    "* $E\\approx -65mV$ representa el potencial de reposo,\n",
    "\n",
    "* $\\tau\\approx 10ms$ representa el tiempo de relajación,\n",
    "\n",
    "* $R\\approx 10M\\Omega$ representa una resistencia eléctrica, y\n",
    "\n",
    "* $I(t)\\approx 1nA$ representa una corriente/señal de entrada.\n",
    "\n",
    "En segundo lugar, un mecanismo de disparo definido por\n",
    "\n",
    "\\begin{eqnarray}\n",
    "V(t) \\to E\n",
    "\\end{eqnarray}\n",
    "\n",
    "cuando\n",
    "\n",
    "\\begin{eqnarray}\n",
    "V(t) > V_u\n",
    "\\end{eqnarray}\n",
    "\n",
    "donde:\n",
    "\n",
    "* $V_u \\approx -50mV$ representa un potencial umbral.\n",
    "\n",
    "Es decir, según el mecanismo de disparo, el potencial de membrana $V(t)$ se resetea a su valor de reposo $E$ si supera cierto valor umbral $V_u$.\n",
    "\n",
    "## Unidades\n",
    "\n",
    "* p = pico = $10^{-12}$\n",
    "* n = nano = $10^{-9}$\n",
    "* $\\mu$ = micro = $10^{-6}$\n",
    "* m = mili = $10^{-3}$\n",
    "* ...\n",
    "* k = kilo = $10^{3}$\n",
    "* M = Mega = $10^{6}$\n",
    "* G = Giga = $10^{9}$\n",
    "* T = Tera = $10^{12}$\n",
    "\n",
    "### Ley de Ohm\n",
    "\n",
    "Si $\\Omega$ = Ohmio, V = Voltio y A = Amper, entonces\n",
    "\n",
    "$$ 1\\, Ohm = 1 \\Omega = \\frac{1 V}{1 A} $$\n",
    "\n",
    "### Ley RC\n",
    "\n",
    "Si s = segundos y F = Faradios, entonces\n",
    "\n",
    "$$ 1 s = 1 \\Omega \\times 1 F $$\n",
    "\n",
    "### Hertz\n",
    "\n",
    "Si Hz = Hertz, luego\n",
    "\n",
    "$$ 1 Hz = \\frac{1}{1 s} $$\n",
    "\n",
    "### Referencias\n",
    "\n",
    "* https://technologystudent.com/elec1/ohm1.htm\n",
    "\n",
    "* https://en.wikipedia.org/wiki/Biological_neuron_model#Leaky_integrate-and-fire\n",
    "\n",
    "* https://compneuro.neuromatch.io/tutorials/W2D3_BiologicalNeuronModels/student/W2D3_Tutorial1.html"
   ]
  },
  {
   "cell_type": "markdown",
   "metadata": {
    "id": "xSg4xeHbPFTb"
   },
   "source": [
    "\n",
    "\n",
    "## **Ejercicio 1)** Importando librerías\n",
    "\n",
    "**1)** Importe las librerías `numpy` para operar con arrays, `scipy` para utilizar rutinas de algebra lineal y `matplotlib.pyplot` para graficar.\n",
    "\n",
    "**2)** Suba el archivo \"libreria\" `ode.py` que fabricó en el práctico 4), e impórtelo."
   ]
  },
  {
   "cell_type": "code",
   "execution_count": 1,
   "metadata": {
    "id": "I8N3D_nU1_oT"
   },
   "outputs": [],
   "source": [
    "# 1.1)\n",
    "import numpy as np\n",
    "import scipy as sp\n",
    "import scipy.linalg as linalg\n",
    "import matplotlib.pyplot as plt"
   ]
  },
  {
   "cell_type": "code",
   "execution_count": 2,
   "metadata": {
    "id": "RmyNi-fhTmWm"
   },
   "outputs": [],
   "source": [
    "# 1.2)\n",
    "#import ode\n",
    "\n",
    "def euler(f,x,t,h,p):\n",
    "    \"\"\"\n",
    "    Calcula un paso de integración del método de Euler.\n",
    "\n",
    "    Argumentos de entrada:\n",
    "\n",
    "        f : R^n,R -> R^n\n",
    "        x = x(t) : R^n\n",
    "        t = tiempo : R\n",
    "        h = paso de tiempo : R\n",
    "        p = parametros : R^q\n",
    "\n",
    "    Retorna aproximacion numérica de\n",
    "\n",
    "        x(t+h) : R^n\n",
    "\n",
    "    según el método de Euler.\n",
    "\n",
    "    # Ejemplos:\n",
    "    \"\"\"\n",
    "    return x+h*f(x,t,p)\n",
    "\n",
    "def rk4(f,x,t,h,p):\n",
    "    \"\"\"\n",
    "    Calcula un paso de integración del método de Runge Kutta orden 4.\n",
    "\n",
    "    Argumentos de entrada:\n",
    "\n",
    "        f : R^n -> R^n\n",
    "        x = x(t) : R^n\n",
    "        t = tiempo : R\n",
    "        h = paso de tiempo : R\n",
    "        p = parametros : R^q\n",
    "\n",
    "    Retorna aproximacion numérica de\n",
    "\n",
    "        x(t+h) : R^n\n",
    "\n",
    "    según el método de Runge-Kutta de orden 4.\n",
    "\n",
    "    # Ejemplos:\n",
    "    \"\"\"\n",
    "    k1 = f(x,t,p)\n",
    "    k2 = f(x+0.5*h*k1,t+0.5*h,p)\n",
    "    k3 = f(x+0.5*h*k2,t+0.5*h,p)\n",
    "    k4 = f(x+h*k3,t+h,p)\n",
    "    return x+h*(k1+2.0*k2+2.0*k3+k4)/6.0\n",
    "\n",
    "def integrador_ode(m,f,xa,a,b,k,p,c=lambda x,t,p:x):\n",
    "    \"\"\"\n",
    "    Integra numéricamente la ODE\n",
    "\n",
    "        dx/dt = f(x,t)\n",
    "\n",
    "    sobre el intervalo t:[a,b] usando k pasos de integración y el método m, bajo condicion inicial x(a)=x0.\n",
    "    No es necesario que a<b.\n",
    "\n",
    "    Argumentos de entrada:\n",
    "\n",
    "        m = metodo de integracion (ej. euler, rk2, etc.)\n",
    "        f : R^n -> R^n\n",
    "        xa = condicion inicial : R\n",
    "        a = tiempo inicial : R\n",
    "        b = tiempo final : R\n",
    "        k = num. pasos de integracion : N\n",
    "        p = parametros : R^q\n",
    "        c = función condicionante : R^n,R,p -> R^n\n",
    "\n",
    "    Retorna:\n",
    "\n",
    "        t : R^{k+1} , t_j = a+j*h para j=0,1,...,k\n",
    "        w : R^{n,k+1} , w_ij = x_i(t_j) para i=0,1,...,n-1 y j=0,1,...,k\n",
    "\n",
    "    donde a+k*dt = b.\n",
    "    \"\"\"\n",
    "    assert k>0\n",
    "    n = len(xa)\n",
    "    h = (b-a)/k\n",
    "    w = np.zeros((n,k+1)) # Produce un array con forma y tipo especificada con los parametros,\n",
    "                          # lleno de ceros. la forma puede ser espcificada con un entero o tupla (n,k+1)\n",
    "    t = np.zeros(k+1)\n",
    "    w[:,0] = xa           # actualiza la posicion inicial (columna de indice 0) de las variables con los valores\n",
    "                          # de las condiciones iniciales\n",
    "    t[0] = a              # actualiza la posicion cero con el valor del tiempo inicial\n",
    "\n",
    "    for j in range(k):    #Aca se produce la iteración en j\n",
    "\n",
    "        t[j+1] = t[j] + h                # iteracion tiempo\n",
    "        w[:,j+1] = m(f,w[:,j],t[j],h,p)  # iteracion de w\n",
    "        w[:,j+1] = c(w[:,j+1],t[j+1],p)  # condicion sobre w\n",
    "\n",
    "    return t,w"
   ]
  },
  {
   "cell_type": "markdown",
   "metadata": {
    "id": "NcaGEHAd10sb"
   },
   "source": [
    "## **Ejercicio 2)** Dinámica con mecanismo de disparo desactivado\n",
    "\n",
    "En lo que sigue, se considera desactivado el mecanismo de disparo.\n",
    "\n",
    "**1)** Resuelva analíticamente la ODE del modelo *Integrate and Fire* para una condición inicial arbitraria $V(0)=V_0$ y una corriente de entrada $I=0$.\n",
    "\n",
    "**2)** Grafique la solución para $V_0=10mV$ y $t\\in [0,100]ms$. Incorpore al gráfico una línea punteada indicando el potencial de reposo.\n",
    "\n",
    "**3)** Realice un análisis geométrico de la solución calculada. Incorpore flechas del campo vectorial así como los puntos fijos estables, inestables y marginales, si los hubiere.\n",
    "\n",
    "**4)** Repita **1)**, **2)** y **3)** para el caso de corriente de entrada constante, $I=2$nA.\n",
    "\n",
    "### Extra\n",
    "\n",
    "**5)** Resuelva analíticamente la ODE para una corriente de entrada $I:t\\to I(t)$ arbitraria."
   ]
  },
  {
   "cell_type": "markdown",
   "metadata": {
    "id": "P4PcT2m4P7z-"
   },
   "source": [
    "2.1) Partimos de la ODE para $I=0$\n",
    "\n",
    "bla bla bla ..."
   ]
  },
  {
   "cell_type": "code",
   "execution_count": 3,
   "metadata": {
    "id": "2EwuGG0gZs_-"
   },
   "outputs": [],
   "source": [
    "# 2.2)\n",
    "E = -65 #mV\n",
    "tau = 10 #ms\n",
    "V0 = 10 #mV\n",
    "\n",
    "def V(t):\n",
    "    return E+(V0-E)*np.exp(-t/tau)"
   ]
  },
  {
   "cell_type": "code",
   "execution_count": 4,
   "metadata": {},
   "outputs": [
    {
     "data": {
      "text/plain": [
       "<matplotlib.legend.Legend at 0x7135bc88baa0>"
      ]
     },
     "execution_count": 4,
     "metadata": {},
     "output_type": "execute_result"
    },
    {
     "data": {
      "image/png": "[encoded data removed]",
      "text/plain": [
       "<Figure size 640x480 with 1 Axes>"
      ]
     },
     "metadata": {},
     "output_type": "display_data"
    }
   ],
   "source": [
    "plt.xlabel('$t$ [ms]')\n",
    "plt.ylabel('$Y(t)$ [mV]')\n",
    "valores_t = np.linspace(0,100,200)\n",
    "valores_V = np.vectorize(V)(valores_t)\n",
    "plt.plot(valores_t,valores_V,label=\"\",linestyle='-',c=\"red\")\n",
    "plt.plot(valores_t,np.zeros(len(valores_t)),label=\"\",linestyle='--',c=\"gray\")\n",
    "plt.plot(valores_t,E*np.ones(len(valores_t)),label=\"$E=V^*$\",linestyle='--',c=\"cyan\")\n",
    "plt.title(\"integrate and fire sin disparo ni corriente\")\n",
    "plt.legend()"
   ]
  },
  {
   "cell_type": "markdown",
   "metadata": {
    "id": "ZA8o18QvZLWY"
   },
   "source": [
    "## **Ejercicio 3)** Dinámica con mecanismo de disparo activado\n",
    "\n",
    "**1)** Resuelva numéricamente la ODE del modelo *Integrate and Fire* en el intervalo $t\\in [0,200]ms$ para la condición inicial $V(0)=E$ y una corriente de entrada $I(t)=I_0$ para todo $t$ con $I_0=2nA$. Utilice el paso de integración $h=0.05ms$.\n",
    "\n",
    "**2)** Grafique la solución computada en el inciso **3.1)**. Incorpore al gráfico la solución exacta del inciso **2.1)**, en donde el mecanismo de disparo está desactivado, para la misma condición inicial del inciso **3.1)**. Grafique, también, líneas punteadas horizontales marcando los valores de $V^*$ y $V_u$, donde $V^*$ es el valor de $V$ tal que $f(V)=0$.\n",
    "\n",
    "**3)** Para el caso indicado en el inciso **3.1)**, calcule analíticamente el período de disparo.\n",
    "Observe si el valor computado corresponde con el observado en el inciso **3.2)**.\n",
    "Grafíque la frencuencia en función de $I_0$.\n",
    "Que ocurre para valores pequeños de $I_0$?\n",
    "\n",
    "\n",
    "**4)** Repita **3.1)** y **3.2)** con $I_e(t)=I_0 \\cos(t/30ms)$ e $I_0=2.5nA$ para $0\\,ms\\leq t\\leq 500\\,ms$. En este caso, no incluya la solución exacta del inciso **2.1)**, pero sí lineas punteadas horizontales para marcar los valores de $E$ y $V_u$.\n",
    "\n",
    "**5)** Repita **3.1)** y **3.2)** con\n",
    "\n",
    "\\begin{equation}\n",
    "I(t)= I_0 \\, \\left(\n",
    "    \\cos{\\left( \\frac{t}{3ms} \\right)} +\n",
    "    \\sin{\\left( \\frac{t}{5ms} \\right)} +\n",
    "    \\cos{\\left( \\frac{t}{7ms} \\right)} +\n",
    "    \\sin{\\left( \\frac{t}{11ms} \\right)} +\n",
    "    \\cos{\\left( \\frac{t}{13ms} \\right)}  \\right)^2 \\, nA \\,\n",
    "    \\;\\;\\;(4)\n",
    "\\end{equation}\n",
    "\n",
    "e $I_0=0.35 nA$ para $0\\,ms\\leq t\\leq 200\\,ms$. Al igual que en inciso anterior, no incluya la solución exacta del inciso **2.a)**, pero sí lineas punteadas horizontales para marcar los valores de $E$ y $V_u$."
   ]
  },
  {
   "cell_type": "code",
   "execution_count": 5,
   "metadata": {
    "id": "TsHJjcCmTxa1"
   },
   "outputs": [],
   "source": [
    "# 3.1)"
   ]
  }
 ],
 "metadata": {
  "colab": {
   "include_colab_link": true,
   "provenance": []
  },
  "kernelspec": {
   "display_name": "Python 3 (ipykernel)",
   "language": "python",
   "name": "python3"
  },
  "language_info": {
   "codemirror_mode": {
    "name": "ipython",
    "version": 3
   },
   "file_extension": ".py",
   "mimetype": "text/x-python",
   "name": "python",
   "nbconvert_exporter": "python",
   "pygments_lexer": "ipython3",
   "version": "3.12.1"
  }
 },
 "nbformat": 4,
 "nbformat_minor": 4
}
