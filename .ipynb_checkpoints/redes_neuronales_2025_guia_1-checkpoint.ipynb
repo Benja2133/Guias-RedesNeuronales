{
 "cells": [
  {
   "cell_type": "markdown",
   "metadata": {
    "id": "NRYEofSD0xoF"
   },
   "source": [
    "# Familiarizandose con **Google Colab** y **Python** \n",
    "(Pasé directo al 2 este casi q no tiene sentido hacerlo)\n",
    "\n",
    "## **Ejercicio 1)** Importando librerías\n",
    "\n",
    "Importe las librerías `numpy` para operar con arrays y `matplotlib.pyplot` para graficar."
   ]
  },
  {
   "cell_type": "code",
   "execution_count": 29,
   "metadata": {
    "id": "I8N3D_nU1_oT"
   },
   "outputs": [],
   "source": [
    "import numpy as np\n",
    "import matplotlib.pyplot as plt"
   ]
  },
  {
   "cell_type": "markdown",
   "metadata": {
    "id": "NcaGEHAd10sb"
   },
   "source": [
    "## **Ejercicio 2)** Practicando instrucciones básicas\n",
    "\n",
    "**1)** Ingrese un comentario\n",
    "\n",
    "**2)** Implemente una suma, una multiplicación y una división entera.\n",
    "\n",
    "**3)** Repita con números flotantes.\n",
    "\n",
    "**4)** Ingrese un string.\n",
    "\n",
    "**5)** Ingrese un docstring.\n",
    "\n",
    "**6)** Concatene dos strings."
   ]
  },
  {
   "cell_type": "code",
   "execution_count": 2,
   "metadata": {
    "id": "tntEwNvE4SZC"
   },
   "outputs": [],
   "source": [
    "# 2.1) esto es un comentario"
   ]
  },
  {
   "cell_type": "code",
   "execution_count": 3,
   "metadata": {
    "colab": {
     "base_uri": "https://localhost:8080/"
    },
    "id": "zSN2CcQ33N5D",
    "outputId": "6a7811b5-8a44-4199-f91b-c1fad7638836"
   },
   "outputs": [
    {
     "data": {
      "text/plain": [
       "2"
      ]
     },
     "execution_count": 3,
     "metadata": {},
     "output_type": "execute_result"
    }
   ],
   "source": [
    "# 2.2)\n",
    "1+1"
   ]
  },
  {
   "cell_type": "code",
   "execution_count": 4,
   "metadata": {
    "colab": {
     "base_uri": "https://localhost:8080/"
    },
    "id": "pJeKZlpABVSx",
    "outputId": "86aa26ac-8e3f-4af7-ee70-594a5d16f057"
   },
   "outputs": [
    {
     "data": {
      "text/plain": [
       "-15"
      ]
     },
     "execution_count": 4,
     "metadata": {},
     "output_type": "execute_result"
    }
   ],
   "source": [
    "5*-3"
   ]
  },
  {
   "cell_type": "code",
   "execution_count": 5,
   "metadata": {
    "colab": {
     "base_uri": "https://localhost:8080/"
    },
    "id": "GdaF501tBYVB",
    "outputId": "1946a59f-3603-4a96-e03c-f2fdda51b17d"
   },
   "outputs": [
    {
     "data": {
      "text/plain": [
       "2"
      ]
     },
     "execution_count": 5,
     "metadata": {},
     "output_type": "execute_result"
    }
   ],
   "source": [
    "5//2"
   ]
  },
  {
   "cell_type": "code",
   "execution_count": 6,
   "metadata": {
    "colab": {
     "base_uri": "https://localhost:8080/"
    },
    "id": "tL4AygI1BnR8",
    "outputId": "2c64818d-1bf6-40ae-fb46-d5c53481ea6d"
   },
   "outputs": [
    {
     "data": {
      "text/plain": [
       "3.4"
      ]
     },
     "execution_count": 6,
     "metadata": {},
     "output_type": "execute_result"
    }
   ],
   "source": [
    "# 2.3)\n",
    "1.1 + 2.3"
   ]
  },
  {
   "cell_type": "code",
   "execution_count": 7,
   "metadata": {
    "colab": {
     "base_uri": "https://localhost:8080/"
    },
    "id": "hbLW6EdeBsLj",
    "outputId": "3ad31acf-0eaa-4e7c-d944-1ef3f84b7afe"
   },
   "outputs": [
    {
     "data": {
      "text/plain": [
       "16.98"
      ]
     },
     "execution_count": 7,
     "metadata": {},
     "output_type": "execute_result"
    }
   ],
   "source": [
    "5.66 * 3"
   ]
  },
  {
   "cell_type": "code",
   "execution_count": 8,
   "metadata": {
    "colab": {
     "base_uri": "https://localhost:8080/"
    },
    "id": "WSa9s055BbLR",
    "outputId": "c64638b0-62f6-4b5d-a61e-cb17e97c486c"
   },
   "outputs": [
    {
     "data": {
      "text/plain": [
       "1.5"
      ]
     },
     "execution_count": 8,
     "metadata": {},
     "output_type": "execute_result"
    }
   ],
   "source": [
    "3/2"
   ]
  },
  {
   "cell_type": "code",
   "execution_count": 9,
   "metadata": {
    "colab": {
     "base_uri": "https://localhost:8080/",
     "height": 35
    },
    "id": "hbIfR7dDBy5d",
    "outputId": "bf65dc9b-7264-41fa-db49-7de42f62e5c8"
   },
   "outputs": [
    {
     "data": {
      "text/plain": [
       "'hola mundo'"
      ]
     },
     "execution_count": 9,
     "metadata": {},
     "output_type": "execute_result"
    }
   ],
   "source": [
    "# 2.4)\n",
    "\"hola mundo\""
   ]
  },
  {
   "cell_type": "code",
   "execution_count": 10,
   "metadata": {
    "colab": {
     "base_uri": "https://localhost:8080/",
     "height": 35
    },
    "id": "gtmUmNodCIxN",
    "outputId": "5142c393-cc0e-4d78-fe83-18b8ef132cbd"
   },
   "outputs": [
    {
     "data": {
      "text/plain": [
       "'hola\\nmundo'"
      ]
     },
     "execution_count": 10,
     "metadata": {},
     "output_type": "execute_result"
    }
   ],
   "source": [
    "# 2.5)\n",
    "\"\"\"hola\n",
    "mundo\"\"\""
   ]
  },
  {
   "cell_type": "code",
   "execution_count": 11,
   "metadata": {
    "colab": {
     "base_uri": "https://localhost:8080/",
     "height": 35
    },
    "id": "EP217LDXCbzI",
    "outputId": "400e20eb-d574-4231-9a7b-cf2ddf95b8bd"
   },
   "outputs": [
    {
     "data": {
      "text/plain": [
       "'abcd efgh'"
      ]
     },
     "execution_count": 11,
     "metadata": {},
     "output_type": "execute_result"
    }
   ],
   "source": [
    "# 2.6)\n",
    "\"abcd\" + \" \" + \"efgh\""
   ]
  },
  {
   "cell_type": "markdown",
   "metadata": {
    "id": "z9AlDWS02Xrm"
   },
   "source": [
    "## **Ejercicio 3)** Practicando con variables\n",
    "\n",
    "**1)** Inicialize una variable `x` con el valor `3`\n",
    "\n",
    "**2)** Evalue la variable `x`.\n",
    "\n",
    "**3)** Inicialize otra variable `y` con el valor `4` y evalue la suma de `x` con `y`.\n",
    "\n",
    "**4)** Inicialize otra variable `z` con el resultado de evaluar `x*(2+y)`. Luego, evalúe `z`.\n",
    "\n",
    "**5)** Inicialize una variable `s1` con el string `\"hola\"` y otra `s2` con el string  `\"mundo\"`.\n",
    "\n",
    "**6)** Inicialize otra variable `s` con el resultado de concatenar `s1` con `s2`. Luego, evalùe `s`."
   ]
  },
  {
   "cell_type": "code",
   "execution_count": 21,
   "metadata": {
    "id": "bGFmi37C59Xg"
   },
   "outputs": [
    {
     "data": {
      "text/plain": [
       "3"
      ]
     },
     "execution_count": 21,
     "metadata": {},
     "output_type": "execute_result"
    }
   ],
   "source": [
    "# 3.1)\n",
    "x = 3\n",
    "# 3.2)\n",
    "x"
   ]
  },
  {
   "cell_type": "code",
   "execution_count": 22,
   "metadata": {},
   "outputs": [
    {
     "data": {
      "text/plain": [
       "7"
      ]
     },
     "execution_count": 22,
     "metadata": {},
     "output_type": "execute_result"
    }
   ],
   "source": [
    "#3.3)\n",
    "y = 4\n",
    "x+y"
   ]
  },
  {
   "cell_type": "code",
   "execution_count": 23,
   "metadata": {},
   "outputs": [
    {
     "data": {
      "text/plain": [
       "18"
      ]
     },
     "execution_count": 23,
     "metadata": {},
     "output_type": "execute_result"
    }
   ],
   "source": [
    "#3.4)\n",
    "z = x*(2+y)\n",
    "z"
   ]
  },
  {
   "cell_type": "code",
   "execution_count": 15,
   "metadata": {
    "colab": {
     "base_uri": "https://localhost:8080/",
     "height": 35
    },
    "id": "Oz9CGj4zuLb8",
    "outputId": "6e312307-28e0-4aae-9858-eca34e0eb48f"
   },
   "outputs": [
    {
     "data": {
      "text/plain": [
       "'holamundo'"
      ]
     },
     "execution_count": 15,
     "metadata": {},
     "output_type": "execute_result"
    }
   ],
   "source": [
    "#3.5)\n",
    "s1 = \"hola\"\n",
    "s2 = \"mundo\"\n",
    "#3.6)\n",
    "s = s1 + s2\n",
    "s"
   ]
  },
  {
   "cell_type": "markdown",
   "metadata": {
    "id": "1q4dmsnN2Z_A"
   },
   "source": [
    "## **Ejercicio 4)** Practicando igualdades y desigualdades\n",
    "\n",
    "**1)** Evalúe `1 == 1`.\n",
    "\n",
    "**2)** Evalúe `1 == 2`.\n",
    "\n",
    "**3)** Evalúe `1 != 1`.\n",
    "\n",
    "**4)** Evalúe `1 != 2`.\n",
    "\n",
    "**5)** Evalúe `\"hola\" == \"hola\"`.\n",
    "\n",
    "**6)** Evalúe `\"hola\" != \"hola\"`.\n",
    "\n",
    "**7)** Evalúe `\"hola\" == \"mundo\"`.\n",
    "\n",
    "**8)** Evalúe `\"hola\" != \"mundo\"`.\n",
    "\n",
    "**9)** Evalúe `True == True`.\n",
    "\n",
    "**10)** Evalúe `False == True`.\n",
    "\n",
    "**11)** Evalúe `False != True`.\n",
    "\n",
    "**12)** Evalúe `False == False`.\n",
    "\n",
    "**13)** Evalúe `1 < 2`.\n",
    "\n",
    "**14)** Evalúe `1 > 2`.\n",
    "\n",
    "**15)** Evalúe `1 <= 2`.\n",
    "\n",
    "**16)** Evalúe `1 >= 2`."
   ]
  },
  {
   "cell_type": "code",
   "execution_count": 24,
   "metadata": {
    "colab": {
     "base_uri": "https://localhost:8080/"
    },
    "id": "pzU9Y1PB6vxq",
    "outputId": "b9dce01b-7274-4cb3-dae0-7e994afcb22a"
   },
   "outputs": [
    {
     "name": "stdout",
     "output_type": "stream",
     "text": [
      "1) True\n",
      "2) False\n",
      "3) False\n",
      "4) True\n",
      "5) True\n",
      "6) False\n",
      "7) False\n",
      "8) True\n",
      "9) True\n",
      "10) False\n",
      "11) True\n",
      "12) True\n",
      "13) True\n",
      "14) False\n",
      "15) True\n",
      "16) False\n"
     ]
    }
   ],
   "source": [
    "print(\"1)\", 1 == 1)\n",
    "print(\"2)\", 1 == 2)\n",
    "print(\"3)\", 1 != 1)\n",
    "print(\"4)\", 1 != 2)\n",
    "\n",
    "print(\"5)\", \"hola\" == \"hola\")\n",
    "print(\"6)\", \"hola\" != \"hola\")\n",
    "print(\"7)\", \"hola\" == \"mundo\")\n",
    "print(\"8)\", \"hola\" != \"mundo\")\n",
    "\n",
    "print(\"9)\", True == True)\n",
    "print(\"10)\", False == True)\n",
    "print(\"11)\", False != True)\n",
    "print(\"12)\", False == False)\n",
    "\n",
    "print(\"13)\", 1 < 2)\n",
    "print(\"14)\", 1 > 2)\n",
    "print(\"15)\", 1 <= 2)\n",
    "print(\"16)\", 1 >= 2)"
   ]
  },
  {
   "cell_type": "markdown",
   "metadata": {
    "id": "K3Oh_Sne7f-p"
   },
   "source": [
    "## **Ejercicio 5)** Practicando con la función `print`.\n",
    "\n",
    "**1)** Imprima un número.\n",
    "\n",
    "**2)** Imprima un string.\n",
    "\n",
    "**3)** Imprima dos números.\n",
    "\n",
    "**4)** Imprima dos strings.\n",
    "\n",
    "**5)** Imprima dos strings con separador vacío.\n",
    "\n",
    "**6)** Imprima un número y un string."
   ]
  },
  {
   "cell_type": "code",
   "execution_count": 28,
   "metadata": {
    "colab": {
     "base_uri": "https://localhost:8080/"
    },
    "id": "JiKAmQxT7sMJ",
    "outputId": "89e73ce2-e8da-4a0d-e902-fb668abe5a87"
   },
   "outputs": [
    {
     "name": "stdout",
     "output_type": "stream",
     "text": [
      "42\n",
      "Hola mundo\n",
      "10 20\n",
      "Hola Python\n",
      "HolaMundo\n",
      "100 años\n"
     ]
    }
   ],
   "source": [
    "# Ejercicio 5: Practicando con la función print\n",
    "\n",
    "# 1) Imprima un número\n",
    "print(42)\n",
    "\n",
    "# 2) Imprima un string\n",
    "print(\"Hola mundo\")\n",
    "\n",
    "# 3) Imprima dos números\n",
    "print(10, 20)\n",
    "\n",
    "# 4) Imprima dos strings\n",
    "print(\"Hola\", \"Python\")\n",
    "\n",
    "# 5) Imprima dos strings con separador vacío\n",
    "print(\"Hola\", \"Mundo\", sep=\"\")\n",
    "\n",
    "# 6) Imprima un número y un string\n",
    "print(100, \"años\")\n"
   ]
  },
  {
   "cell_type": "markdown",
   "metadata": {
    "id": "B6wbgSO87aAE"
   },
   "source": [
    "## **Ejercicio 6)** Practicando con condicionales `if`, `else` y `elif`\n",
    "\n",
    "**1)** Imprime algo el siguiente código?\n",
    "\n",
    "      if 1 == 1:\n",
    "          print(\"hola\")\n",
    "\n",
    "**2)** Y el siguiente código?\n",
    "\n",
    "      if 1 != 1:\n",
    "          print(\"hola\")\n",
    "\n",
    "**3)** Que imprime el siguiente código?\n",
    "\n",
    "      if 1 == 2:\n",
    "          print(\"hola\")\n",
    "      else:\n",
    "          print(\"mundo\")\n",
    "\n",
    "**4)** Que imprime el siguiente código?\n",
    "\n",
    "      if 1 == 2:\n",
    "          print(\"hola\")\n",
    "      elif 1 < 2:\n",
    "          print(\"mundo\")\n",
    "      else:\n",
    "          print(\"argentina\")"
   ]
  },
  {
   "cell_type": "code",
   "execution_count": 18,
   "metadata": {
    "colab": {
     "base_uri": "https://localhost:8080/"
    },
    "id": "G4bYNL7B8Wme",
    "outputId": "cd145579-7da5-4c0d-e078-f8cfa7f09e1b"
   },
   "outputs": [],
   "source": [
    "# 6.1)"
   ]
  },
  {
   "cell_type": "markdown",
   "metadata": {
    "id": "8A3sq4Qm8_4T"
   },
   "source": [
    "## **Ejercicio 7)** Practicando con listas\n",
    "\n",
    "**1)** Cree una lista con las siguientes strings `\"perro\"`, `\"gato\"`, `\"loro\"`, `\"caballo\"` y `\"llama\"`. Guardela en una variable llamada `animales`.\n",
    "\n",
    "**2)** Acceda al 3er elemento de la lista.\n",
    "\n",
    "**3)** Use slicing para acceder a los primeros 3 elementos de la lista.\n",
    "\n",
    "**4)** Use slicing para acceder a los últimos 3 elementos de la lista.\n",
    "\n",
    "**5)** Use slicing para acceder a los 3 elementos de la lista contando desde el segundo.\n",
    "\n",
    "**6)** Use *list comprehension* para generar una lista con los animales que posean una letra `l` en su nombre.\n",
    "\n",
    "**7)** Cree una lista con los números del 1 al 10, asignándola a una variable `a`.\n",
    "\n",
    "**8)** Modifique la entrada `a[5]`, asignandole el nuevo valor `\"hola\"`. Luego, evalúe `a`.\n",
    "\n",
    "**9)** Modifique las entradas `a[2:6]` con los valores de la lista `[\"perro\", \"gato\",\"loro\",\"caballo\"]`. Luego, evalúe `a`."
   ]
  },
  {
   "cell_type": "code",
   "execution_count": 19,
   "metadata": {
    "colab": {
     "base_uri": "https://localhost:8080/"
    },
    "id": "7OX-mL5606x1",
    "outputId": "6c336ad3-16c8-4049-d4d1-9716b2eef847"
   },
   "outputs": [
    {
     "data": {
      "text/plain": [
       "[1000, 2000, 3000, 4000, 5000, 6000, -1000]"
      ]
     },
     "execution_count": 19,
     "metadata": {},
     "output_type": "execute_result"
    }
   ],
   "source": [
    "# 7.1)\n",
    "\n",
    "x = [1000,2000,3000,4000,5000,6000]\n",
    "\n",
    "y = [\"perro\",\"gato\"]\n",
    "\n",
    "x.append(-1000)\n",
    "\n",
    "x"
   ]
  },
  {
   "cell_type": "markdown",
   "metadata": {
    "id": "0y2VKhA2oijd"
   },
   "source": [
    "## **Ejercicio 8)** Practicando con tuplas\n",
    "\n",
    "**1)** Determine si la tupla `(1,2,3)` es igual a si misma.\n",
    "\n",
    "**2)** Determine si la tupla `(1,2,3)` es igual a la tupla `(1,2,3,4)`.\n",
    "\n",
    "**3)** Inicialize una variable `t` con una tupla `(1,2,3)`. Luego, evalúe `t[0]`, `t[1]`, `t[2]` y `t[3]`.\n",
    "\n",
    "**4)** Intente modificar el valor de `t[0]`.\n",
    "\n",
    "**5)** Determine si la tupla `(1,2,3)` es igual a la lista `[1,2,3]`.\n",
    "\n",
    "**6)** Inicialize las variables `x`, `y` y `z` asignando la tupla `\"hola\",\"mundo\",100`. Evalúe `x`, `y` y `z`."
   ]
  },
  {
   "cell_type": "code",
   "execution_count": 20,
   "metadata": {
    "colab": {
     "base_uri": "https://localhost:8080/",
     "height": 176
    },
    "id": "smLKfDhZLUBJ",
    "outputId": "64667630-2375-4002-a94b-c907a33a0ecf"
   },
   "outputs": [
    {
     "ename": "TypeError",
     "evalue": "can't multiply sequence by non-int of type 'tuple'",
     "output_type": "error",
     "traceback": [
      "\u001b[31m---------------------------------------------------------------------------\u001b[39m",
      "\u001b[31mTypeError\u001b[39m                                 Traceback (most recent call last)",
      "\u001b[36mCell\u001b[39m\u001b[36m \u001b[39m\u001b[32mIn[20]\u001b[39m\u001b[32m, line 3\u001b[39m\n\u001b[32m      1\u001b[39m \u001b[38;5;66;03m# 8.1)\u001b[39;00m\n\u001b[32m----> \u001b[39m\u001b[32m3\u001b[39m \u001b[43m(\u001b[49m\u001b[32;43m1\u001b[39;49m\u001b[43m,\u001b[49m\u001b[32;43m2\u001b[39;49m\u001b[43m)\u001b[49m\u001b[43m \u001b[49m\u001b[43m*\u001b[49m\u001b[43m \u001b[49m\u001b[43m(\u001b[49m\u001b[32;43m3\u001b[39;49m\u001b[43m,\u001b[49m\u001b[32;43m4\u001b[39;49m\u001b[43m)\u001b[49m\n",
      "\u001b[31mTypeError\u001b[39m: can't multiply sequence by non-int of type 'tuple'"
     ]
    }
   ],
   "source": [
    "# 8.1)\n",
    "\n",
    "(1,2) * (3,4)"
   ]
  },
  {
   "cell_type": "markdown",
   "metadata": {
    "id": "e5ddPvOF9KdG"
   },
   "source": [
    "## **Ejercicio 9)** Practicando con loops\n",
    "\n",
    "**1)** Implemente un loop usando la instrucción `for` que imprima los números pares desde el 0 hasta el 10.\n",
    "\n",
    "**2)** *Conjetura de Collatz:* Implemente un loop usando la instrucción `while` calcule la iteración\n",
    "\n",
    "\\begin{equation}\n",
    "n_{t+1} = f(n_t)\n",
    "\\end{equation}\n",
    "\n",
    "donde $f(n) = n/2$ si $n$ es par y $f(n)=3n+1$ si $n$ es impar, partiendo de $n_0=10$. El loop debe detenerse cuando se cumple la condición $n_t=1$ para algún $t$. Que observa? Comente. Cuantas iteraciones realiza el loop?\n",
    "\n",
    "**3)** Use `for` para iterar sobre la lista `[\"perro\",\"gato\",\"loro\",\"caballo\",\"llama\"]`, imprimiendo los cada item en cada iteración."
   ]
  },
  {
   "cell_type": "code",
   "execution_count": null,
   "metadata": {
    "id": "Gd2RahNG5NUT"
   },
   "outputs": [],
   "source": [
    "# 9.1)"
   ]
  },
  {
   "cell_type": "markdown",
   "metadata": {
    "id": "2iSXiPew9XOZ"
   },
   "source": [
    "## **Ejercicio 10)** Definiendo y evaluando funciones\n",
    "\n",
    "**1)** Implemente una función llamada `suma` que retorne la sume dos números. Testeela.\n",
    "\n",
    "**2)** Implemente una función llamada `opcional` que adopte dos parámetros de entrada, y que el segundo de ellos sea opcional con un valor por defecto igual a 1. La función debe retornar la resta de ambos números. Testeela.\n",
    "\n",
    "**3)** Implemente una función llamada `fact` que calcule y retorne el factorial de un número `n` si es que `n` es natural o zero. En caso contrario, que imprima el mensaje \"El número n no es un entero no negativo.\" y retorne `None`. Testeela."
   ]
  },
  {
   "cell_type": "code",
   "execution_count": null,
   "metadata": {
    "id": "IWQiVNIk3i81"
   },
   "outputs": [],
   "source": [
    "# 10.1)"
   ]
  },
  {
   "cell_type": "markdown",
   "metadata": {
    "id": "Adc_7Ee29EpE"
   },
   "source": [
    "## **Ejercicio 11)** Practicando con arrays\n",
    "\n",
    "**1)** Inicialize un array de enteros a partir de la lista `[1,2,3]`. Llamelo `b`.\n",
    "\n",
    "**2)** Inicialize un array 2-dimensional a partir de las listas anidadas `[[1,2,3],[4,5,6],[7,8,9]]`. Llamelo `a`.\n",
    "\n",
    "**3)** Acceda a la entrada de la fila $i=1$ y la columna $j=2$ del array `a`.\n",
    "\n",
    "**4)** Inicialice un array de 10 valores 0 en representacón flotante de 64 bits.\n",
    "\n",
    "**5)** Inicialice un array de 10 valores 3.14 en representacón flotante de 32 bits."
   ]
  },
  {
   "cell_type": "code",
   "execution_count": null,
   "metadata": {
    "id": "FiR0OpNq05pa"
   },
   "outputs": [],
   "source": [
    "# 11.1)"
   ]
  },
  {
   "cell_type": "markdown",
   "metadata": {
    "id": "bmHmMiAboqzs"
   },
   "source": [
    "## **Ejercicio 12)** Practicando con clases\n",
    "\n",
    "**1)** Defina una clase llamada `MiClase` que posea una variable miembro llamada `nombre`. El inicializador `__init__()` de la clase debe poseer un argumento opcional, que debe usarse para inicializar el valor de la variable miembro `nombre` con el valor por defecto `\"mi clase\"`.\n",
    "\n",
    "**2)** Agregue a la clase la función miembro `__str__()` que retorne el valor de la variable miembro `nombre`.\n",
    "\n",
    "**3)** Cree un objeto de la clase en cuestión y de nombre `mi_objeto`, y testee la función `__str__()` evaluando la expresión `str(mi_objeto)`.\n",
    "\n",
    "**4)** Agregue a la clase la función `__len__()` que retorne el largo de la variable miembro `nombre`. Testee dicha función.\n",
    "\n",
    "**5)** Agregue a la clase una función miembro llamada `cambiar_nombre` que sirva para cambiar el valor de la variable miembro `nombre`. Testee dicha función."
   ]
  },
  {
   "cell_type": "code",
   "execution_count": null,
   "metadata": {
    "id": "P9PC2JGvqWSU"
   },
   "outputs": [],
   "source": [
    "# 11.1)"
   ]
  },
  {
   "cell_type": "markdown",
   "metadata": {
    "id": "W4HxPu2-9Q68"
   },
   "source": [
    "## **Ejercicio 13)** Graficando\n",
    "\n",
    "**1)** Utilice `np.linspace` para generar un array de 100 valores equidistantes entre 0 y 5. Almacene el array en una variable `valores_x`.\n",
    "\n",
    "**2)** Calcule el array llamado `valores_y1` de valores `np.cos(x)` para cada `x` en `valores_x`.\n",
    "\n",
    "**3)** Calcule el array llamado `valores_y2` de valores `np.sin(x)` para cada `x` en `valores_x`.\n",
    "\n",
    "**4)** Use estos arrays para graficar, con curvas, las funciones $\\cos(x)$ y $\\sin(x)$ en el rango $[0,5]$. Use una línea contínua para el coseno y una punteada para el seno.\n",
    "\n",
    "**5)** Acomode el gráfico: agregue etiquetas a los ejes y a las curvas. Modifique los límites del área graficada para que se vean correctamente las curvas. Agregue un título a la figura."
   ]
  },
  {
   "cell_type": "code",
   "execution_count": null,
   "metadata": {
    "id": "uasToO-NrDJH"
   },
   "outputs": [],
   "source": [
    "# 13.1)"
   ]
  }
 ],
 "metadata": {
  "colab": {
   "provenance": []
  },
  "kernelspec": {
   "display_name": "Python 3 (ipykernel)",
   "language": "python",
   "name": "python3"
  },
  "language_info": {
   "codemirror_mode": {
    "name": "ipython",
    "version": 3
   },
   "file_extension": ".py",
   "mimetype": "text/x-python",
   "name": "python",
   "nbconvert_exporter": "python",
   "pygments_lexer": "ipython3",
   "version": "3.12.1"
  }
 },
 "nbformat": 4,
 "nbformat_minor": 4
}
