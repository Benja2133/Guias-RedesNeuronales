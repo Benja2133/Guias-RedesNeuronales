{
 "cells": [
  {
   "cell_type": "markdown",
   "metadata": {
    "id": "NRYEofSD0xoF"
   },
   "source": [
    "# Familiarizandose con **Numpy**\n",
    "\n",
    "Referencias:\n",
    "* https://www.datacamp.com/cheat-sheet/numpy-cheat-sheet-data-analysis-in-python\n",
    "* https://towardsdatascience.com/a-cheat-sheet-on-generating-random-numbers-in-numpy-5fe95ec2286\n",
    "\n",
    "## **Ejercicio 1)** Importando librerías\n",
    "\n",
    "Importe las librerías `numpy` para operar con arrays, `scipy` para operar con algebra lineal y `matplotlib.pyplot` para graficar."
   ]
  },
  {
   "cell_type": "code",
   "execution_count": 2,
   "metadata": {
    "id": "I8N3D_nU1_oT"
   },
   "outputs": [],
   "source": [
    "import numpy as np\n",
    "import scipy as sp\n",
    "import matplotlib.pyplot as plt"
   ]
  },
  {
   "cell_type": "markdown",
   "metadata": {
    "id": "NcaGEHAd10sb"
   },
   "source": [
    "## **Ejercicio 2)** Creando arrays\n",
    "\n",
    "**1)** Cree un array de enteros `a` a partir de la lista `[1,2,3]`.\n",
    "\n",
    "**2)** Cree un array bidimensional de flotantes `b` a partir de la lista de listas `[[1.5,2,3],[4,5,6]]`.\n",
    "\n",
    "**3)** Cree un array tridimensional de flotantes `c` a partir de la lista de listas `[[[1.5,2,3],[4,5,6]],[[3,2,1],[4,5,6]]]`."
   ]
  },
  {
   "cell_type": "code",
   "execution_count": 4,
   "metadata": {
    "id": "kmcjSK0BCua3"
   },
   "outputs": [
    {
     "data": {
      "text/plain": [
       "array([1, 2, 3])"
      ]
     },
     "execution_count": 4,
     "metadata": {},
     "output_type": "execute_result"
    }
   ],
   "source": [
    "# 2.1)\n",
    "a = np.array([1,2,3])\n",
    "a"
   ]
  },
  {
   "cell_type": "code",
   "execution_count": 5,
   "metadata": {},
   "outputs": [
    {
     "data": {
      "text/plain": [
       "array([[1.5, 2. , 3. ],\n",
       "       [4. , 5. , 6. ]], dtype=float32)"
      ]
     },
     "execution_count": 5,
     "metadata": {},
     "output_type": "execute_result"
    }
   ],
   "source": [
    "#2.2)\n",
    "b = np.array([[1.5,2,3],[4,5,6]],dtype=np.float32)\n",
    "b"
   ]
  },
  {
   "cell_type": "code",
   "execution_count": 8,
   "metadata": {},
   "outputs": [
    {
     "data": {
      "text/plain": [
       "array([[[1.5, 2. , 3. ],\n",
       "        [4. , 5. , 6. ]],\n",
       "\n",
       "       [[3. , 2. , 1. ],\n",
       "        [4. , 5. , 6. ]]])"
      ]
     },
     "execution_count": 8,
     "metadata": {},
     "output_type": "execute_result"
    }
   ],
   "source": [
    "c = np.array([[[1.5,2,3],[4,5,6]],[[3,2,1],[4,5,6]]],dtype=np.float64)\n",
    "c"
   ]
  },
  {
   "cell_type": "markdown",
   "metadata": {
    "id": "qxuzt1pLQAzE"
   },
   "source": [
    "## **Ejercicio 3)** Inicializando arrays\n",
    "\n",
    "**1)** Utilice `np.zeros` para crear un array bidimensional de flotantes incializados a `0.0`, y de dimensiones de tamaños `(3,4)`.\n",
    "\n",
    "**2)** Utilice `np.ones` para crear un array tridimensional de enteros inicializados a `1`, y de dimensiones `(2,3,4)`.\n",
    "\n",
    "**3)** Utilice `np.arange` para crear un array `d` de valores enteros equiespaciados de a `5` entre `10` y `25`.\n",
    "\n",
    "**4)** Utilice `np.linspace` para crear un array de `9` valores flotantes equiespaciados entre `0.0` y `9.0`.\n",
    "\n",
    "**5)** Utilice `np.full` para crear un array bidimensional llamado `e` de entradas iguales a `7`, y de dimesiones `(2,2)`.\n",
    "\n",
    "**6)** Utilice `np.eye` para crear una matriz identidad llamada `f` de dimensiones 2x2.\n",
    "\n",
    "**7)** Utilice `np.random.random` para crear un array bidimensional de dimensiones 2x2 inicializado con valores aleatorios uniformemente sorteados del intervalo $[0,1]$.\n",
    "\n",
    "**8)** Utilice `np.empty` para crear un array bidimensional sin inicializar y de dimensiones `(3,2)`.\n"
   ]
  },
  {
   "cell_type": "code",
   "execution_count": 14,
   "metadata": {
    "id": "am2dMRPnC0BJ"
   },
   "outputs": [
    {
     "data": {
      "text/plain": [
       "array([[0., 0., 0., 0.],\n",
       "       [0., 0., 0., 0.],\n",
       "       [0., 0., 0., 0.]])"
      ]
     },
     "execution_count": 14,
     "metadata": {},
     "output_type": "execute_result"
    }
   ],
   "source": [
    "# 3.1) \n",
    "zeros_array = np.zeros((3,4))\n",
    "zeros_array"
   ]
  },
  {
   "cell_type": "code",
   "execution_count": 16,
   "metadata": {},
   "outputs": [
    {
     "data": {
      "text/plain": [
       "array([[[1., 1., 1., 1.],\n",
       "        [1., 1., 1., 1.],\n",
       "        [1., 1., 1., 1.]],\n",
       "\n",
       "       [[1., 1., 1., 1.],\n",
       "        [1., 1., 1., 1.],\n",
       "        [1., 1., 1., 1.]]])"
      ]
     },
     "execution_count": 16,
     "metadata": {},
     "output_type": "execute_result"
    }
   ],
   "source": [
    "#3.2)\n",
    "ones_array = np.ones((2,3,4))\n",
    "ones_array"
   ]
  },
  {
   "cell_type": "code",
   "execution_count": 2,
   "metadata": {},
   "outputs": [
    {
     "data": {
      "text/plain": [
       "array([10, 15, 20])"
      ]
     },
     "execution_count": 2,
     "metadata": {},
     "output_type": "execute_result"
    }
   ],
   "source": [
    "#3.3)\n",
    "d = np.arange(10,25,5)\n",
    "d"
   ]
  },
  {
   "cell_type": "code",
   "execution_count": 6,
   "metadata": {},
   "outputs": [
    {
     "data": {
      "text/plain": [
       "array([0.   , 1.125, 2.25 , 3.375, 4.5  , 5.625, 6.75 , 7.875, 9.   ])"
      ]
     },
     "execution_count": 6,
     "metadata": {},
     "output_type": "execute_result"
    }
   ],
   "source": [
    "#3.4)\n",
    "g = np.linspace(0,9,9)\n",
    "g"
   ]
  },
  {
   "cell_type": "code",
   "execution_count": 7,
   "metadata": {},
   "outputs": [
    {
     "data": {
      "text/plain": [
       "array([[7, 7],\n",
       "       [7, 7]])"
      ]
     },
     "execution_count": 7,
     "metadata": {},
     "output_type": "execute_result"
    }
   ],
   "source": [
    "#3.5)\n",
    "e = np.full((2,2),7)\n",
    "e"
   ]
  },
  {
   "cell_type": "code",
   "execution_count": 5,
   "metadata": {},
   "outputs": [
    {
     "ename": "TypeError",
     "evalue": "'tuple' object cannot be interpreted as an integer",
     "output_type": "error",
     "traceback": [
      "\u001b[31m---------------------------------------------------------------------------\u001b[39m",
      "\u001b[31mTypeError\u001b[39m                                 Traceback (most recent call last)",
      "\u001b[36mCell\u001b[39m\u001b[36m \u001b[39m\u001b[32mIn[5]\u001b[39m\u001b[32m, line 2\u001b[39m\n\u001b[32m      1\u001b[39m \u001b[38;5;66;03m#3.6)\u001b[39;00m\n\u001b[32m----> \u001b[39m\u001b[32m2\u001b[39m f = \u001b[43mnp\u001b[49m\u001b[43m.\u001b[49m\u001b[43meye\u001b[49m\u001b[43m(\u001b[49m\u001b[43m(\u001b[49m\u001b[32;43m2\u001b[39;49m\u001b[43m,\u001b[49m\u001b[32;43m2\u001b[39;49m\u001b[43m)\u001b[49m\u001b[43m)\u001b[49m\n\u001b[32m      3\u001b[39m f\n",
      "\u001b[36mFile \u001b[39m\u001b[32m~/.local/lib/python3.12/site-packages/numpy/lib/_twodim_base_impl.py:235\u001b[39m, in \u001b[36meye\u001b[39m\u001b[34m(N, M, k, dtype, order, device, like)\u001b[39m\n\u001b[32m    233\u001b[39m \u001b[38;5;28;01mif\u001b[39;00m M \u001b[38;5;129;01mis\u001b[39;00m \u001b[38;5;28;01mNone\u001b[39;00m:\n\u001b[32m    234\u001b[39m     M = N\n\u001b[32m--> \u001b[39m\u001b[32m235\u001b[39m m = \u001b[43mzeros\u001b[49m\u001b[43m(\u001b[49m\u001b[43m(\u001b[49m\u001b[43mN\u001b[49m\u001b[43m,\u001b[49m\u001b[43m \u001b[49m\u001b[43mM\u001b[49m\u001b[43m)\u001b[49m\u001b[43m,\u001b[49m\u001b[43m \u001b[49m\u001b[43mdtype\u001b[49m\u001b[43m=\u001b[49m\u001b[43mdtype\u001b[49m\u001b[43m,\u001b[49m\u001b[43m \u001b[49m\u001b[43morder\u001b[49m\u001b[43m=\u001b[49m\u001b[43morder\u001b[49m\u001b[43m,\u001b[49m\u001b[43m \u001b[49m\u001b[43mdevice\u001b[49m\u001b[43m=\u001b[49m\u001b[43mdevice\u001b[49m\u001b[43m)\u001b[49m\n\u001b[32m    236\u001b[39m \u001b[38;5;28;01mif\u001b[39;00m k >= M:\n\u001b[32m    237\u001b[39m     \u001b[38;5;28;01mreturn\u001b[39;00m m\n",
      "\u001b[31mTypeError\u001b[39m: 'tuple' object cannot be interpreted as an integer"
     ]
    }
   ],
   "source": [
    "#3.6)\n",
    "f = np.eye(2,2)\n",
    "f"
   ]
  },
  {
   "cell_type": "markdown",
   "metadata": {
    "id": "XYA7TEySCIF6"
   },
   "source": [
    "## **Ejercicio 4)** Inspeccionando arrays\n",
    "\n",
    "Considere los arrays de los ejercicios 2) y 3).\n",
    "\n",
    "**1)** Utilizando `.shape`, determine cuales son las dimensiones del array `a`.\n",
    "\n",
    "**2)** Utilizando la función `len()`, determine el *largo* del array `a`.\n",
    "\n",
    "**3)** Utilizando `.ndim`, determine el número de dimensiones del array `b`.\n",
    "\n",
    "**4)** Utilizando `.size`, determine el número de entradas que tienen `e`.\n",
    "\n",
    "**5)** Utilizando `.dtype`, determine el tipo de los datos contenidos por el array `b`.\n",
    "\n",
    "**6)** Utilizando `.dtype.name`, determine el nombre del tipo de los datos contenidos por el array `b`.\n",
    "\n",
    "**7)** Utilizando `.astype`, convierta el array `b` a un array de tipo `int`.\n",
    "\n"
   ]
  },
  {
   "cell_type": "code",
   "execution_count": null,
   "metadata": {
    "id": "3w4J3xLLR8J2"
   },
   "outputs": [],
   "source": [
    "# 4.1)"
   ]
  },
  {
   "cell_type": "markdown",
   "metadata": {
    "id": "NIvk_fOTpihu"
   },
   "source": [
    "## **Ejercicio 5)** Tipos de datos\n",
    "\n",
    "**1)** Cree un array que contenga elementos de tipo `np.int64`.\n",
    "\n",
    "**2)** Cree un array que contenga elementos de tipo `np.float32`.\n",
    "\n",
    "**3)** Cree un array que contenga elementos de tipo `np.complex128`.\n",
    "\n",
    "**4)** Cree un array que contenga elementos de tipo `np.bool`.\n",
    "\n",
    "**5)** Cree un array que contenga elementos de tipo `np.object`.\n",
    "\n",
    "**6)** Cree un array que contenga elementos de tipo `np.bytes_`.\n",
    "\n",
    "**7)** Cree un array que contenga elementos de tipo `np.str_`."
   ]
  },
  {
   "cell_type": "code",
   "execution_count": null,
   "metadata": {
    "id": "1MHRaUbvpjTl"
   },
   "outputs": [],
   "source": [
    "# 5.1)"
   ]
  },
  {
   "cell_type": "markdown",
   "metadata": {
    "id": "DKT4mjnssUjE"
   },
   "source": [
    "## **Ejercicio 6)** Operando sobre arrays\n",
    "\n",
    "Considere los arrays de los ejercicios 2) y 3).\n",
    "\n",
    "**1)** Calcule la resta `a-b` de los arrays `a` y `b` y almacene el resultado en un array `g`.\n",
    "\n",
    "**2)** Notar que `a` y `b` poseen diferentes dimensiones (i.e., `a.shape` es distinto de `b.shape`) y, sin embargo, en el inciso anterior numpy computa la resta `a-b`. Explique lo que ocurre.\n",
    "\n",
    "**3)** Compare el anterior resultado con el uso de `np.substract`.\n",
    "\n",
    "**4)** Calcule la suma `a+b` de los arrays `a` y `b`.\n",
    "\n",
    "**5)** Compare el anterior resultado con el uso de `np.add`.\n",
    "\n",
    "**6)** Calcule la división punto a punto  `a/b` de `a` y `b`.\n",
    "\n",
    "**7)** Compare el anterior resultado con el uso de `np.divide`.\n",
    "\n",
    "**8)** Calcule la multiplicación punto a punto  `a*b` de `a` y `b`.\n",
    "\n",
    "**9)** Compare el anterior resultado con el uso de `np.multiply`.\n",
    "\n",
    "**10)** Calcule la exponencial punto a punto  `np.exp(b)` de `b`.\n",
    "\n",
    "**11)** Calcule la raíz cuadrada punto a punto  `np.sqrt(b)` de `b`.\n",
    "\n",
    "**12)** Calcule el seno punto a punto  `np.sin(a)` de `a`.\n",
    "\n",
    "**13)** Calcule el coseno punto a punto  `np.cos(b)` de `b`.\n",
    "\n",
    "**14)** Calcule el logaritmo natural punto a punto  `np.log(a)` de `a`.\n",
    "\n",
    "**15)** Calcule el producto punto `e.dot(f)` entre `e` y `f`.\n",
    "\n",
    "**16)** Compare el anterior resultado con el uso de `np.dot`.\n",
    "\n",
    "**17)** Explique las diferentes opciones que puede adoptar el producto punto de numpy según el número de dimensiones que tengan sus factores.\n",
    "\n",
    "**Ayuda:** use https://numpy.org/doc/stable/reference/generated/numpy.dot.html"
   ]
  },
  {
   "cell_type": "code",
   "execution_count": null,
   "metadata": {
    "id": "S0j5b3fiSZ1U"
   },
   "outputs": [],
   "source": [
    "\n",
    "# 6.1)"
   ]
  },
  {
   "cell_type": "markdown",
   "metadata": {
    "id": "Jo3x-Y7WZBBu"
   },
   "source": [
    "## **Ejercicio 7)** Comparando arrays\n",
    "\n",
    "**1)** Use `==` para realizar una compación punto a punto de los arrays `a` y `b`.\n",
    "\n",
    "**2)** Use `<` para realizar una comparación punto a punto del array `b` con el escalar `2`.\n",
    "\n",
    "**3)** Use `np.array_equal(a,b)` para determinar si `a` y `b` son iguales como arrays."
   ]
  },
  {
   "cell_type": "code",
   "execution_count": null,
   "metadata": {
    "id": "H9n8g9-GZAM6"
   },
   "outputs": [],
   "source": [
    "# 7.1)"
   ]
  },
  {
   "cell_type": "markdown",
   "metadata": {
    "id": "JUrKqiWLZScG"
   },
   "source": [
    "## **Ejercicio 8)** *Copiando* arrays\n",
    "\n",
    "**1)** Use `.view()` para crear una vista llamada `h` del array `a`.\n",
    "\n",
    "**2)** Use `.copy()` para crear una copia del array `a`."
   ]
  },
  {
   "cell_type": "code",
   "execution_count": null,
   "metadata": {
    "id": "7bQI_mVoZRoS"
   },
   "outputs": [],
   "source": [
    "# 8.1)"
   ]
  },
  {
   "cell_type": "markdown",
   "metadata": {
    "id": "rBJYDjW8ZZNw"
   },
   "source": [
    "## **Ejercicio 9)** Ordenado\n",
    "\n",
    "**1)** Use `.sort()` para ordenar los elementos de `a`.\n",
    "\n",
    "**2)** Ordene los elementos de `c` a lo largo del eje `0`. Explique."
   ]
  },
  {
   "cell_type": "code",
   "execution_count": null,
   "metadata": {
    "id": "NNNzAqsmljKV"
   },
   "outputs": [],
   "source": [
    "# 9.1)"
   ]
  },
  {
   "cell_type": "markdown",
   "metadata": {
    "id": "eLeebs0YZlLK"
   },
   "source": [
    "## **Ejercicio 10)** Indexado y *slicing* (rebanado) de arrays\n",
    "\n",
    "**1)** Seleccione el segundo elemento de `a`.\n",
    "\n",
    "**2)** Seleccione el elemento en la fila 1 y columna 2 de `b`.\n",
    "\n",
    "Si `n` y `m` son enteros, luego `[n:m]` indica el rango de índices que van desde `n` hasta `m-1`.\n",
    "\n",
    "**3)** Seleccione el rango `[0:2]` de elementos de `a`.\n",
    "\n",
    "**4)** Seleccione los elementos de `b` en el rango `[0:2]` de filas y la columna `1`.\n",
    "\n",
    "**5)** Seleccione todos los elementos de `b` que esten en el rango de filas `[0:1]` y el rango completo de columnas.\n",
    "\n",
    "**6)** Uso de *elipsis*. Seleccione los elementos de `c` indexados por `[1,...]`. Es esto lo mismo que lo indexado por `[1,:,:]`?\n",
    "\n",
    "Si `n`, `m` y `s` son enteros, luego `[n:m:s]` indica el rango de índices que van desde `n` hasta `m-1` saltando de a `s` elementos.\n",
    "\n",
    "**7)** Utilice lo mencionado anteriormente para acceder a los elementos de `a` de forma invertida.\n",
    "\n",
    "**8)** Seleccione los elementos de `a` que sean menores que dos.\n",
    "\n",
    "**9)** Seleccione los elementos de `b` indicados por la lista de índices `[(1,0),(0,1),(1,2),(0,0)]` utilizando, correspondientemente, una lista de indices fila y una lista de índices columna.\n",
    "\n",
    "**10)** Utilizando una lista de indices fila, seleccione las filas `1,0,1,0` de `b`, y luego, para cada selección anterior, utilice una lista de índices columna para seleccionar las columnas `0,1,2,0`."
   ]
  },
  {
   "cell_type": "code",
   "execution_count": null,
   "metadata": {
    "id": "DKfWU3ABZrO6"
   },
   "outputs": [],
   "source": [
    "# 10.1)"
   ]
  },
  {
   "cell_type": "markdown",
   "metadata": {
    "id": "ElU003n_Z21x"
   },
   "source": [
    "## **Ejercicio 11)** transposición\n",
    "\n",
    "**1)** Use `np.transpose()` para calcular la traspuesta del array `b`, y asignarlo a una variable `i`.\n",
    "\n",
    "**2)** Use `.T` para acceder a `i` de forma traspuesta. Es esta forma traspuesta igual a `b`?"
   ]
  },
  {
   "cell_type": "code",
   "execution_count": null,
   "metadata": {
    "id": "PdUyQZaibDQk"
   },
   "outputs": [],
   "source": [
    "# 11.1)"
   ]
  },
  {
   "cell_type": "markdown",
   "metadata": {
    "id": "QIaiu19baXiQ"
   },
   "source": [
    "## **Ejercicio 12)** Redimensionado\n",
    "\n",
    "**1)** Use `.ravel()` para *achatar* el array `b`.\n",
    "\n",
    "**2)** Use `.reshape()` para redimensionar el array `g` de manera que adquiera dimensiones especificadas por la tupla `(3,-2)`.\n",
    "\n",
    "**3)** Que indica aquí el signo negativo del segundo índice?"
   ]
  },
  {
   "cell_type": "code",
   "execution_count": null,
   "metadata": {
    "id": "3f1juN38aUiO"
   },
   "outputs": [],
   "source": [
    "# 12.1)"
   ]
  },
  {
   "cell_type": "markdown",
   "metadata": {
    "id": "-NfN6hr4afE9"
   },
   "source": [
    "## **Ejercicio 13)** Agregando y quitando elementos\n",
    "\n",
    "**1)** Use `np.resize()` para crear a partir del array `h` un nuevo array de tamaño y dimensiones diferentes indicadas por `(2,6)`.\n",
    "\n",
    "**2)** Use `np.append()` para crear un nuevo array que agrege los elementos de `g` al final de los elementos de `h`. Notar que `h` y `g` tienen diferentes dimensiones. Cómo resuelve `numpy` esta cuestión?\n",
    "\n",
    "**3)** Use `np.insert()` para crear una copia de `a` en donde se inserta el número `5` en la posición indexada por `1`.\n",
    "\n",
    "**4)** Use `np.delete()` para eliminar los elementos de `a` indicados por la lista de índices `[1]`."
   ]
  },
  {
   "cell_type": "code",
   "execution_count": null,
   "metadata": {
    "id": "eHAdt7bUaRN2"
   },
   "outputs": [],
   "source": [
    "# 13.1)"
   ]
  },
  {
   "cell_type": "markdown",
   "metadata": {
    "id": "qtvq4B1NaRhe"
   },
   "source": [
    "## **Ejercicio 14)** Combinando arrays\n",
    "\n",
    "**a)** Use `np.concatenate()` para concatenar los arrays `a` y `d`.\n",
    "\n",
    "**b)** Use `np.vstack()` para apilar verticalmente los arrays `a` y `b`.\n",
    "\n",
    "**c)** Use `np.hstack()` para apilar horizontalmente los arrays `e` y `f`."
   ]
  },
  {
   "cell_type": "code",
   "execution_count": null,
   "metadata": {
    "id": "0NqrIYB3bB61"
   },
   "outputs": [],
   "source": [
    "# 14.1)"
   ]
  },
  {
   "cell_type": "markdown",
   "metadata": {
    "id": "QXtaTV8aazoG"
   },
   "source": [
    "## **Ejercicio 15)** *Separando* arrays\n",
    "\n",
    "**a)** Use `np.hsplit()` para separar horizontalmente el array `a` en 3 partes.\n",
    "\n",
    "**b)** Use `np.vsplit()` para separar verticalmente el array `c` en 2 partes.\n",
    "\n",
    "**c)** Cree el array `z` dado por\n",
    "\n",
    "    [[1, 2, 3, 4],\n",
    "    [2, 0, 0, 2],\n",
    "    [3, 1, 1, 0]]\n",
    "\n",
    "y sepárelo en dos partes a lo largo del eje `1`."
   ]
  },
  {
   "cell_type": "code",
   "execution_count": null,
   "metadata": {
    "id": "w1zDcFsua-lN"
   },
   "outputs": [],
   "source": [
    "# 15.1)"
   ]
  },
  {
   "cell_type": "markdown",
   "metadata": {
    "id": "sBolXn9yxIU7"
   },
   "source": [
    "## **Ejercicio 16)** Generando números aleatorios\n",
    "\n",
    "**1)** Use `np.random.random()` para generar un número aleatorio de tipo float64 a partir de la distribución uniforme en $[0,1]$.\n",
    "\n",
    "**2)** Use `np.random.random()` para crear un array de 10 números aleatorios de tipo float64 generados a partir de la distribución uniforme en $[0,1]$.\n",
    "\n",
    "**3)** Use `np.random.random()` para crear un array dos dimensional de dimensiones `(3,4)` conteniendo números aleatorios de tipo float64 generados a partir de la distribución uniforme en $[0,1]$.\n",
    "\n",
    "**4)** Use `np.random.randn()` para generar un número aleatorio de tipo float64 a partir de la distribución normal centrada en $\\mu=0$ y de varianza $\\sigma^2=1$.\n",
    "\n",
    "**5)** Use `np.random.randn()` para generar un número aleatorio de tipo float64 a partir de la distribución normal centrada en $\\mu=5$ y de varianza $\\sigma^2=9$.\n",
    "\n",
    "**6)** Use `np.random.randn()` para generar un array de dimensiones `(3,2,3)` conteniendo números aleatorios de tipo float64 generados a partir de la distribución normal centrada en $\\mu=-1$ y de varianza $\\sigma^2=2$.\n",
    "\n",
    "**7)** Use `np.random.randint()` para generar un número aleatorio de tipo int64 a partir de la distribución uniforme en $\\{0,1,2,3\\}$.\n",
    "\n",
    "**8)** Use `np.random.randint()` para generar un número aleatorio de tipo int64 a partir de la distribución uniforme en $\\{10,11,12,13,14,15\\}$.\n",
    "\n",
    "**9)** Use `np.random.randint()` para generar un array de dimensiones `(3,2,3)` conteniendo números aleatorios de tipo int64 generados a partir de la distribución uniforme en $\\{0,1\\}$.\n",
    "\n",
    "**10)** Use `np.random.choice()` para seleccionar uniformemente al azar un elemento de la lista `[\"perro\",\"gato\",\"loro\",\"caballo\",\"vaca\"]`.\n",
    "\n",
    "**11)** Use `np.random.choice()` para crear un array de dimensiones `(3,3)` con selecciones generadas uniformemente al azar de los elementos de la lista `[\"perro\",\"gato\",\"loro\",\"caballo\",\"vaca\"]`.\n",
    "\n",
    "**12)** Use `np.random.choice()` para crear un array de dimensiones `(3,3,3)` con selecciones generadas al azar de los elementos de la lista `[\"perro\",\"gato\",\"loro\",\"caballo\",\"vaca\"]` de acuerdo a la correspondiente lista de probabilidades `[8/16,4/16,2/16,1/16,1/16]`.\n",
    "\n",
    "**13)** Use `np.random.permutation()` generar una permutación, seleccionada uniformemente al azar una de las `n!` permutaciones que existen de un conjunto de `n` elementos, de una la lista de números entre `0` y `n-1` para `n=10` denominada `lista_n`.\n",
    "\n",
    "**14)** Repita lo anterior usando `np.random.shuffle()` para aleatorizar la lista `lista_n` *in situ*."
   ]
  },
  {
   "cell_type": "code",
   "execution_count": null,
   "metadata": {
    "id": "UMoFrNm1xEns"
   },
   "outputs": [],
   "source": [
    "# 16.1)"
   ]
  }
 ],
 "metadata": {
  "colab": {
   "provenance": []
  },
  "kernelspec": {
   "display_name": "Python 3 (ipykernel)",
   "language": "python",
   "name": "python3"
  },
  "language_info": {
   "codemirror_mode": {
    "name": "ipython",
    "version": 3
   },
   "file_extension": ".py",
   "mimetype": "text/x-python",
   "name": "python",
   "nbconvert_exporter": "python",
   "pygments_lexer": "ipython3",
   "version": "3.12.1"
  }
 },
 "nbformat": 4,
 "nbformat_minor": 4
}
